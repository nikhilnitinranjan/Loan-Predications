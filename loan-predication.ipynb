{
 "cells": [
  {
   "cell_type": "code",
   "execution_count": 1,
   "id": "e1526dbf",
   "metadata": {
    "_cell_guid": "b1076dfc-b9ad-4769-8c92-a6c4dae69d19",
    "_uuid": "8f2839f25d086af736a60e9eeb907d3b93b6e0e5",
    "execution": {
     "iopub.execute_input": "2024-05-22T19:49:20.016378Z",
     "iopub.status.busy": "2024-05-22T19:49:20.015625Z",
     "iopub.status.idle": "2024-05-22T19:49:20.977666Z",
     "shell.execute_reply": "2024-05-22T19:49:20.976477Z"
    },
    "papermill": {
     "duration": 0.999957,
     "end_time": "2024-05-22T19:49:20.980391",
     "exception": false,
     "start_time": "2024-05-22T19:49:19.980434",
     "status": "completed"
    },
    "tags": []
   },
   "outputs": [
    {
     "name": "stdout",
     "output_type": "stream",
     "text": [
      "/kaggle/input/loan-predication/train_u6lujuX_CVtuZ9i (1).csv\n"
     ]
    }
   ],
   "source": [
    "# This Python 3 environment comes with many helpful analytics libraries installed\n",
    "# It is defined by the kaggle/python Docker image: https://github.com/kaggle/docker-python\n",
    "# For example, here's several helpful packages to load\n",
    "\n",
    "import numpy as np # linear algebra\n",
    "import pandas as pd # data processing, CSV file I/O (e.g. pd.read_csv)\n",
    "\n",
    "# Input data files are available in the read-only \"../input/\" directory\n",
    "# For example, running this (by clicking run or pressing Shift+Enter) will list all files under the input directory\n",
    "\n",
    "import os\n",
    "for dirname, _, filenames in os.walk('/kaggle/input'):\n",
    "    for filename in filenames:\n",
    "        print(os.path.join(dirname, filename))\n",
    "\n",
    "# You can write up to 20GB to the current directory (/kaggle/working/) that gets preserved as output when you create a version using \"Save & Run All\" \n",
    "# You can also write temporary files to /kaggle/temp/, but they won't be saved outside of the current session"
   ]
  },
  {
   "cell_type": "markdown",
   "id": "2c88704f",
   "metadata": {
    "papermill": {
     "duration": 0.03116,
     "end_time": "2024-05-22T19:49:21.044035",
     "exception": false,
     "start_time": "2024-05-22T19:49:21.012875",
     "status": "completed"
    },
    "tags": []
   },
   "source": [
    "**Importing essential libraries for data manipulation and analysis**"
   ]
  },
  {
   "cell_type": "code",
   "execution_count": 2,
   "id": "3b23893b",
   "metadata": {
    "execution": {
     "iopub.execute_input": "2024-05-22T19:49:21.108823Z",
     "iopub.status.busy": "2024-05-22T19:49:21.108312Z",
     "iopub.status.idle": "2024-05-22T19:49:21.113464Z",
     "shell.execute_reply": "2024-05-22T19:49:21.112111Z"
    },
    "papermill": {
     "duration": 0.04053,
     "end_time": "2024-05-22T19:49:21.115785",
     "exception": false,
     "start_time": "2024-05-22T19:49:21.075255",
     "status": "completed"
    },
    "tags": []
   },
   "outputs": [],
   "source": [
    "import numpy as np\n",
    "import pandas as pd"
   ]
  },
  {
   "cell_type": "markdown",
   "id": "502359b1",
   "metadata": {
    "papermill": {
     "duration": 0.031045,
     "end_time": "2024-05-22T19:49:21.178790",
     "exception": false,
     "start_time": "2024-05-22T19:49:21.147745",
     "status": "completed"
    },
    "tags": []
   },
   "source": [
    "**Importing libraries for data visualization**"
   ]
  },
  {
   "cell_type": "code",
   "execution_count": 3,
   "id": "493d81ef",
   "metadata": {
    "execution": {
     "iopub.execute_input": "2024-05-22T19:49:21.243760Z",
     "iopub.status.busy": "2024-05-22T19:49:21.243288Z",
     "iopub.status.idle": "2024-05-22T19:49:22.639235Z",
     "shell.execute_reply": "2024-05-22T19:49:22.637824Z"
    },
    "papermill": {
     "duration": 1.43216,
     "end_time": "2024-05-22T19:49:22.642170",
     "exception": false,
     "start_time": "2024-05-22T19:49:21.210010",
     "status": "completed"
    },
    "tags": []
   },
   "outputs": [],
   "source": [
    "import matplotlib.pyplot as plt\n",
    "import seaborn as sns"
   ]
  },
  {
   "cell_type": "markdown",
   "id": "7900977b",
   "metadata": {
    "papermill": {
     "duration": 0.030593,
     "end_time": "2024-05-22T19:49:22.703798",
     "exception": false,
     "start_time": "2024-05-22T19:49:22.673205",
     "status": "completed"
    },
    "tags": []
   },
   "source": [
    "**Suppressing warnings for clean output**"
   ]
  },
  {
   "cell_type": "code",
   "execution_count": 4,
   "id": "28b795d5",
   "metadata": {
    "execution": {
     "iopub.execute_input": "2024-05-22T19:49:22.769055Z",
     "iopub.status.busy": "2024-05-22T19:49:22.768650Z",
     "iopub.status.idle": "2024-05-22T19:49:22.773611Z",
     "shell.execute_reply": "2024-05-22T19:49:22.772452Z"
    },
    "papermill": {
     "duration": 0.04116,
     "end_time": "2024-05-22T19:49:22.776134",
     "exception": false,
     "start_time": "2024-05-22T19:49:22.734974",
     "status": "completed"
    },
    "tags": []
   },
   "outputs": [],
   "source": [
    "import warnings\n",
    "warnings.simplefilter(\"ignore\")"
   ]
  },
  {
   "cell_type": "markdown",
   "id": "4dfa17d0",
   "metadata": {
    "papermill": {
     "duration": 0.031199,
     "end_time": "2024-05-22T19:49:22.839292",
     "exception": false,
     "start_time": "2024-05-22T19:49:22.808093",
     "status": "completed"
    },
    "tags": []
   },
   "source": [
    "**Importing libraries for machine learning and model evaluation**"
   ]
  },
  {
   "cell_type": "code",
   "execution_count": 5,
   "id": "ce62daa8",
   "metadata": {
    "execution": {
     "iopub.execute_input": "2024-05-22T19:49:22.903765Z",
     "iopub.status.busy": "2024-05-22T19:49:22.903309Z",
     "iopub.status.idle": "2024-05-22T19:49:23.345989Z",
     "shell.execute_reply": "2024-05-22T19:49:23.344850Z"
    },
    "papermill": {
     "duration": 0.478795,
     "end_time": "2024-05-22T19:49:23.349122",
     "exception": false,
     "start_time": "2024-05-22T19:49:22.870327",
     "status": "completed"
    },
    "tags": []
   },
   "outputs": [],
   "source": [
    "from sklearn.model_selection import train_test_split, GridSearchCV\n",
    "from sklearn.preprocessing import StandardScaler, LabelEncoder\n",
    "from sklearn.metrics import accuracy_score, confusion_matrix, classification_report"
   ]
  },
  {
   "cell_type": "markdown",
   "id": "1ee756d5",
   "metadata": {
    "papermill": {
     "duration": 0.091795,
     "end_time": "2024-05-22T19:49:23.473726",
     "exception": false,
     "start_time": "2024-05-22T19:49:23.381931",
     "status": "completed"
    },
    "tags": []
   },
   "source": [
    "**Importing specific machine learning models**"
   ]
  },
  {
   "cell_type": "code",
   "execution_count": 6,
   "id": "8f43ed1a",
   "metadata": {
    "execution": {
     "iopub.execute_input": "2024-05-22T19:49:23.538037Z",
     "iopub.status.busy": "2024-05-22T19:49:23.537662Z",
     "iopub.status.idle": "2024-05-22T19:49:23.967325Z",
     "shell.execute_reply": "2024-05-22T19:49:23.965814Z"
    },
    "papermill": {
     "duration": 0.46488,
     "end_time": "2024-05-22T19:49:23.970178",
     "exception": false,
     "start_time": "2024-05-22T19:49:23.505298",
     "status": "completed"
    },
    "tags": []
   },
   "outputs": [],
   "source": [
    "from sklearn.linear_model import LogisticRegression\n",
    "from sklearn.neighbors import KNeighborsClassifier\n",
    "from sklearn.svm import SVC\n",
    "from sklearn.tree import DecisionTreeClassifier\n",
    "from sklearn.ensemble import RandomForestClassifier,GradientBoostingClassifier, AdaBoostClassifier\n",
    "from xgboost import XGBClassifier"
   ]
  },
  {
   "cell_type": "code",
   "execution_count": 7,
   "id": "35951785",
   "metadata": {
    "execution": {
     "iopub.execute_input": "2024-05-22T19:49:24.035869Z",
     "iopub.status.busy": "2024-05-22T19:49:24.035447Z",
     "iopub.status.idle": "2024-05-22T19:49:24.060767Z",
     "shell.execute_reply": "2024-05-22T19:49:24.059768Z"
    },
    "papermill": {
     "duration": 0.061088,
     "end_time": "2024-05-22T19:49:24.063203",
     "exception": false,
     "start_time": "2024-05-22T19:49:24.002115",
     "status": "completed"
    },
    "tags": []
   },
   "outputs": [],
   "source": [
    "df=pd.read_csv(\"/kaggle/input/loan-predication/train_u6lujuX_CVtuZ9i (1).csv\")"
   ]
  },
  {
   "cell_type": "code",
   "execution_count": 8,
   "id": "44ffbc07",
   "metadata": {
    "execution": {
     "iopub.execute_input": "2024-05-22T19:49:24.128057Z",
     "iopub.status.busy": "2024-05-22T19:49:24.126874Z",
     "iopub.status.idle": "2024-05-22T19:49:24.160294Z",
     "shell.execute_reply": "2024-05-22T19:49:24.159039Z"
    },
    "papermill": {
     "duration": 0.068239,
     "end_time": "2024-05-22T19:49:24.162765",
     "exception": false,
     "start_time": "2024-05-22T19:49:24.094526",
     "status": "completed"
    },
    "tags": []
   },
   "outputs": [
    {
     "data": {
      "text/html": [
       "<div>\n",
       "<style scoped>\n",
       "    .dataframe tbody tr th:only-of-type {\n",
       "        vertical-align: middle;\n",
       "    }\n",
       "\n",
       "    .dataframe tbody tr th {\n",
       "        vertical-align: top;\n",
       "    }\n",
       "\n",
       "    .dataframe thead th {\n",
       "        text-align: right;\n",
       "    }\n",
       "</style>\n",
       "<table border=\"1\" class=\"dataframe\">\n",
       "  <thead>\n",
       "    <tr style=\"text-align: right;\">\n",
       "      <th></th>\n",
       "      <th>Loan_ID</th>\n",
       "      <th>Gender</th>\n",
       "      <th>Married</th>\n",
       "      <th>Dependents</th>\n",
       "      <th>Education</th>\n",
       "      <th>Self_Employed</th>\n",
       "      <th>ApplicantIncome</th>\n",
       "      <th>CoapplicantIncome</th>\n",
       "      <th>LoanAmount</th>\n",
       "      <th>Loan_Amount_Term</th>\n",
       "      <th>Credit_History</th>\n",
       "      <th>Property_Area</th>\n",
       "      <th>Loan_Status</th>\n",
       "    </tr>\n",
       "  </thead>\n",
       "  <tbody>\n",
       "    <tr>\n",
       "      <th>0</th>\n",
       "      <td>LP001002</td>\n",
       "      <td>Male</td>\n",
       "      <td>No</td>\n",
       "      <td>0</td>\n",
       "      <td>Graduate</td>\n",
       "      <td>No</td>\n",
       "      <td>5849</td>\n",
       "      <td>0.0</td>\n",
       "      <td>NaN</td>\n",
       "      <td>360.0</td>\n",
       "      <td>1.0</td>\n",
       "      <td>Urban</td>\n",
       "      <td>Y</td>\n",
       "    </tr>\n",
       "    <tr>\n",
       "      <th>1</th>\n",
       "      <td>LP001003</td>\n",
       "      <td>Male</td>\n",
       "      <td>Yes</td>\n",
       "      <td>1</td>\n",
       "      <td>Graduate</td>\n",
       "      <td>No</td>\n",
       "      <td>4583</td>\n",
       "      <td>1508.0</td>\n",
       "      <td>128.0</td>\n",
       "      <td>360.0</td>\n",
       "      <td>1.0</td>\n",
       "      <td>Rural</td>\n",
       "      <td>N</td>\n",
       "    </tr>\n",
       "    <tr>\n",
       "      <th>2</th>\n",
       "      <td>LP001005</td>\n",
       "      <td>Male</td>\n",
       "      <td>Yes</td>\n",
       "      <td>0</td>\n",
       "      <td>Graduate</td>\n",
       "      <td>Yes</td>\n",
       "      <td>3000</td>\n",
       "      <td>0.0</td>\n",
       "      <td>66.0</td>\n",
       "      <td>360.0</td>\n",
       "      <td>1.0</td>\n",
       "      <td>Urban</td>\n",
       "      <td>Y</td>\n",
       "    </tr>\n",
       "    <tr>\n",
       "      <th>3</th>\n",
       "      <td>LP001006</td>\n",
       "      <td>Male</td>\n",
       "      <td>Yes</td>\n",
       "      <td>0</td>\n",
       "      <td>Not Graduate</td>\n",
       "      <td>No</td>\n",
       "      <td>2583</td>\n",
       "      <td>2358.0</td>\n",
       "      <td>120.0</td>\n",
       "      <td>360.0</td>\n",
       "      <td>1.0</td>\n",
       "      <td>Urban</td>\n",
       "      <td>Y</td>\n",
       "    </tr>\n",
       "    <tr>\n",
       "      <th>4</th>\n",
       "      <td>LP001008</td>\n",
       "      <td>Male</td>\n",
       "      <td>No</td>\n",
       "      <td>0</td>\n",
       "      <td>Graduate</td>\n",
       "      <td>No</td>\n",
       "      <td>6000</td>\n",
       "      <td>0.0</td>\n",
       "      <td>141.0</td>\n",
       "      <td>360.0</td>\n",
       "      <td>1.0</td>\n",
       "      <td>Urban</td>\n",
       "      <td>Y</td>\n",
       "    </tr>\n",
       "  </tbody>\n",
       "</table>\n",
       "</div>"
      ],
      "text/plain": [
       "    Loan_ID Gender Married Dependents     Education Self_Employed  \\\n",
       "0  LP001002   Male      No          0      Graduate            No   \n",
       "1  LP001003   Male     Yes          1      Graduate            No   \n",
       "2  LP001005   Male     Yes          0      Graduate           Yes   \n",
       "3  LP001006   Male     Yes          0  Not Graduate            No   \n",
       "4  LP001008   Male      No          0      Graduate            No   \n",
       "\n",
       "   ApplicantIncome  CoapplicantIncome  LoanAmount  Loan_Amount_Term  \\\n",
       "0             5849                0.0         NaN             360.0   \n",
       "1             4583             1508.0       128.0             360.0   \n",
       "2             3000                0.0        66.0             360.0   \n",
       "3             2583             2358.0       120.0             360.0   \n",
       "4             6000                0.0       141.0             360.0   \n",
       "\n",
       "   Credit_History Property_Area Loan_Status  \n",
       "0             1.0         Urban           Y  \n",
       "1             1.0         Rural           N  \n",
       "2             1.0         Urban           Y  \n",
       "3             1.0         Urban           Y  \n",
       "4             1.0         Urban           Y  "
      ]
     },
     "execution_count": 8,
     "metadata": {},
     "output_type": "execute_result"
    }
   ],
   "source": [
    "df.head()"
   ]
  },
  {
   "cell_type": "markdown",
   "id": "ae3bfc8d",
   "metadata": {
    "papermill": {
     "duration": 0.040691,
     "end_time": "2024-05-22T19:49:24.236885",
     "exception": false,
     "start_time": "2024-05-22T19:49:24.196194",
     "status": "completed"
    },
    "tags": []
   },
   "source": [
    "# Data Understanding"
   ]
  },
  {
   "cell_type": "code",
   "execution_count": 9,
   "id": "981a84aa",
   "metadata": {
    "execution": {
     "iopub.execute_input": "2024-05-22T19:49:24.307965Z",
     "iopub.status.busy": "2024-05-22T19:49:24.307283Z",
     "iopub.status.idle": "2024-05-22T19:49:24.338937Z",
     "shell.execute_reply": "2024-05-22T19:49:24.337297Z"
    },
    "papermill": {
     "duration": 0.071646,
     "end_time": "2024-05-22T19:49:24.343976",
     "exception": false,
     "start_time": "2024-05-22T19:49:24.272330",
     "status": "completed"
    },
    "tags": []
   },
   "outputs": [
    {
     "name": "stdout",
     "output_type": "stream",
     "text": [
      "<class 'pandas.core.frame.DataFrame'>\n",
      "RangeIndex: 614 entries, 0 to 613\n",
      "Data columns (total 13 columns):\n",
      " #   Column             Non-Null Count  Dtype  \n",
      "---  ------             --------------  -----  \n",
      " 0   Loan_ID            614 non-null    object \n",
      " 1   Gender             601 non-null    object \n",
      " 2   Married            611 non-null    object \n",
      " 3   Dependents         599 non-null    object \n",
      " 4   Education          614 non-null    object \n",
      " 5   Self_Employed      582 non-null    object \n",
      " 6   ApplicantIncome    614 non-null    int64  \n",
      " 7   CoapplicantIncome  614 non-null    float64\n",
      " 8   LoanAmount         592 non-null    float64\n",
      " 9   Loan_Amount_Term   600 non-null    float64\n",
      " 10  Credit_History     564 non-null    float64\n",
      " 11  Property_Area      614 non-null    object \n",
      " 12  Loan_Status        614 non-null    object \n",
      "dtypes: float64(4), int64(1), object(8)\n",
      "memory usage: 62.5+ KB\n"
     ]
    }
   ],
   "source": [
    "df.info()"
   ]
  },
  {
   "cell_type": "markdown",
   "id": "24baf1e0",
   "metadata": {
    "papermill": {
     "duration": 0.035591,
     "end_time": "2024-05-22T19:49:24.422042",
     "exception": false,
     "start_time": "2024-05-22T19:49:24.386451",
     "status": "completed"
    },
    "tags": []
   },
   "source": [
    "**In our data there are 13 columns and  8 of them are object dtype and 4 of them are float dtype and 1 is int dtype  **"
   ]
  },
  {
   "cell_type": "code",
   "execution_count": 10,
   "id": "7a1fb789",
   "metadata": {
    "execution": {
     "iopub.execute_input": "2024-05-22T19:49:24.488147Z",
     "iopub.status.busy": "2024-05-22T19:49:24.487704Z",
     "iopub.status.idle": "2024-05-22T19:49:24.494307Z",
     "shell.execute_reply": "2024-05-22T19:49:24.493533Z"
    },
    "papermill": {
     "duration": 0.042178,
     "end_time": "2024-05-22T19:49:24.496428",
     "exception": false,
     "start_time": "2024-05-22T19:49:24.454250",
     "status": "completed"
    },
    "tags": []
   },
   "outputs": [
    {
     "data": {
      "text/plain": [
       "Index(['Loan_ID', 'Gender', 'Married', 'Dependents', 'Education',\n",
       "       'Self_Employed', 'ApplicantIncome', 'CoapplicantIncome', 'LoanAmount',\n",
       "       'Loan_Amount_Term', 'Credit_History', 'Property_Area', 'Loan_Status'],\n",
       "      dtype='object')"
      ]
     },
     "execution_count": 10,
     "metadata": {},
     "output_type": "execute_result"
    }
   ],
   "source": [
    "df.columns"
   ]
  },
  {
   "cell_type": "code",
   "execution_count": 11,
   "id": "cd6d9288",
   "metadata": {
    "execution": {
     "iopub.execute_input": "2024-05-22T19:49:24.570437Z",
     "iopub.status.busy": "2024-05-22T19:49:24.569930Z",
     "iopub.status.idle": "2024-05-22T19:49:24.579151Z",
     "shell.execute_reply": "2024-05-22T19:49:24.577971Z"
    },
    "papermill": {
     "duration": 0.049325,
     "end_time": "2024-05-22T19:49:24.581528",
     "exception": false,
     "start_time": "2024-05-22T19:49:24.532203",
     "status": "completed"
    },
    "tags": []
   },
   "outputs": [
    {
     "data": {
      "text/plain": [
       "614"
      ]
     },
     "execution_count": 11,
     "metadata": {},
     "output_type": "execute_result"
    }
   ],
   "source": [
    "df[\"Loan_ID\"].nunique()"
   ]
  },
  {
   "cell_type": "code",
   "execution_count": 12,
   "id": "0ccd89d2",
   "metadata": {
    "execution": {
     "iopub.execute_input": "2024-05-22T19:49:24.653654Z",
     "iopub.status.busy": "2024-05-22T19:49:24.652166Z",
     "iopub.status.idle": "2024-05-22T19:49:24.662926Z",
     "shell.execute_reply": "2024-05-22T19:49:24.661586Z"
    },
    "papermill": {
     "duration": 0.050054,
     "end_time": "2024-05-22T19:49:24.665826",
     "exception": false,
     "start_time": "2024-05-22T19:49:24.615772",
     "status": "completed"
    },
    "tags": []
   },
   "outputs": [],
   "source": [
    "df.drop(columns=\"Loan_ID\",inplace=True,axis=1)"
   ]
  },
  {
   "cell_type": "markdown",
   "id": "cdcd383f",
   "metadata": {
    "papermill": {
     "duration": 0.031864,
     "end_time": "2024-05-22T19:49:24.730921",
     "exception": false,
     "start_time": "2024-05-22T19:49:24.699057",
     "status": "completed"
    },
    "tags": []
   },
   "source": [
    "**i am dropping id column because it is not that important for my analysis**"
   ]
  },
  {
   "cell_type": "markdown",
   "id": "278f3f11",
   "metadata": {
    "papermill": {
     "duration": 0.031722,
     "end_time": "2024-05-22T19:49:24.795011",
     "exception": false,
     "start_time": "2024-05-22T19:49:24.763289",
     "status": "completed"
    },
    "tags": []
   },
   "source": [
    "**Now i will study all columns uniques values and total counts**"
   ]
  },
  {
   "cell_type": "code",
   "execution_count": 13,
   "id": "7a66c152",
   "metadata": {
    "execution": {
     "iopub.execute_input": "2024-05-22T19:49:24.861921Z",
     "iopub.status.busy": "2024-05-22T19:49:24.861417Z",
     "iopub.status.idle": "2024-05-22T19:49:24.868683Z",
     "shell.execute_reply": "2024-05-22T19:49:24.867804Z"
    },
    "papermill": {
     "duration": 0.043425,
     "end_time": "2024-05-22T19:49:24.870935",
     "exception": false,
     "start_time": "2024-05-22T19:49:24.827510",
     "status": "completed"
    },
    "tags": []
   },
   "outputs": [
    {
     "data": {
      "text/plain": [
       "array(['Male', 'Female', nan], dtype=object)"
      ]
     },
     "execution_count": 13,
     "metadata": {},
     "output_type": "execute_result"
    }
   ],
   "source": [
    "df[\"Gender\"].unique()"
   ]
  },
  {
   "cell_type": "code",
   "execution_count": 14,
   "id": "caef8818",
   "metadata": {
    "execution": {
     "iopub.execute_input": "2024-05-22T19:49:24.941099Z",
     "iopub.status.busy": "2024-05-22T19:49:24.939994Z",
     "iopub.status.idle": "2024-05-22T19:49:24.952414Z",
     "shell.execute_reply": "2024-05-22T19:49:24.951133Z"
    },
    "papermill": {
     "duration": 0.051409,
     "end_time": "2024-05-22T19:49:24.956362",
     "exception": false,
     "start_time": "2024-05-22T19:49:24.904953",
     "status": "completed"
    },
    "tags": []
   },
   "outputs": [
    {
     "data": {
      "text/plain": [
       "Gender\n",
       "Male      489\n",
       "Female    112\n",
       "Name: count, dtype: int64"
      ]
     },
     "execution_count": 14,
     "metadata": {},
     "output_type": "execute_result"
    }
   ],
   "source": [
    "df[\"Gender\"].value_counts()"
   ]
  },
  {
   "cell_type": "code",
   "execution_count": 15,
   "id": "b6736a7f",
   "metadata": {
    "execution": {
     "iopub.execute_input": "2024-05-22T19:49:25.031118Z",
     "iopub.status.busy": "2024-05-22T19:49:25.029836Z",
     "iopub.status.idle": "2024-05-22T19:49:25.040052Z",
     "shell.execute_reply": "2024-05-22T19:49:25.038839Z"
    },
    "papermill": {
     "duration": 0.05072,
     "end_time": "2024-05-22T19:49:25.042668",
     "exception": false,
     "start_time": "2024-05-22T19:49:24.991948",
     "status": "completed"
    },
    "tags": []
   },
   "outputs": [
    {
     "data": {
      "text/plain": [
       "array(['0', '1', '2', '3+', nan], dtype=object)"
      ]
     },
     "execution_count": 15,
     "metadata": {},
     "output_type": "execute_result"
    }
   ],
   "source": [
    "df[\"Dependents\"].unique()"
   ]
  },
  {
   "cell_type": "code",
   "execution_count": 16,
   "id": "e429f5cf",
   "metadata": {
    "execution": {
     "iopub.execute_input": "2024-05-22T19:49:25.111042Z",
     "iopub.status.busy": "2024-05-22T19:49:25.110623Z",
     "iopub.status.idle": "2024-05-22T19:49:25.119642Z",
     "shell.execute_reply": "2024-05-22T19:49:25.118445Z"
    },
    "papermill": {
     "duration": 0.046485,
     "end_time": "2024-05-22T19:49:25.122375",
     "exception": false,
     "start_time": "2024-05-22T19:49:25.075890",
     "status": "completed"
    },
    "tags": []
   },
   "outputs": [
    {
     "data": {
      "text/plain": [
       "Dependents\n",
       "0     345\n",
       "1     102\n",
       "2     101\n",
       "3+     51\n",
       "Name: count, dtype: int64"
      ]
     },
     "execution_count": 16,
     "metadata": {},
     "output_type": "execute_result"
    }
   ],
   "source": [
    "df[\"Dependents\"].value_counts()"
   ]
  },
  {
   "cell_type": "code",
   "execution_count": 17,
   "id": "6966abc5",
   "metadata": {
    "execution": {
     "iopub.execute_input": "2024-05-22T19:49:25.192598Z",
     "iopub.status.busy": "2024-05-22T19:49:25.192109Z",
     "iopub.status.idle": "2024-05-22T19:49:25.199791Z",
     "shell.execute_reply": "2024-05-22T19:49:25.198742Z"
    },
    "papermill": {
     "duration": 0.044961,
     "end_time": "2024-05-22T19:49:25.202008",
     "exception": false,
     "start_time": "2024-05-22T19:49:25.157047",
     "status": "completed"
    },
    "tags": []
   },
   "outputs": [
    {
     "data": {
      "text/plain": [
       "array(['Graduate', 'Not Graduate'], dtype=object)"
      ]
     },
     "execution_count": 17,
     "metadata": {},
     "output_type": "execute_result"
    }
   ],
   "source": [
    "df[\"Education\"].unique()"
   ]
  },
  {
   "cell_type": "code",
   "execution_count": 18,
   "id": "2da43684",
   "metadata": {
    "execution": {
     "iopub.execute_input": "2024-05-22T19:49:25.271755Z",
     "iopub.status.busy": "2024-05-22T19:49:25.271300Z",
     "iopub.status.idle": "2024-05-22T19:49:25.280603Z",
     "shell.execute_reply": "2024-05-22T19:49:25.279236Z"
    },
    "papermill": {
     "duration": 0.046434,
     "end_time": "2024-05-22T19:49:25.283063",
     "exception": false,
     "start_time": "2024-05-22T19:49:25.236629",
     "status": "completed"
    },
    "tags": []
   },
   "outputs": [
    {
     "data": {
      "text/plain": [
       "Education\n",
       "Graduate        480\n",
       "Not Graduate    134\n",
       "Name: count, dtype: int64"
      ]
     },
     "execution_count": 18,
     "metadata": {},
     "output_type": "execute_result"
    }
   ],
   "source": [
    "df[\"Education\"].value_counts()"
   ]
  },
  {
   "cell_type": "code",
   "execution_count": 19,
   "id": "605929cd",
   "metadata": {
    "execution": {
     "iopub.execute_input": "2024-05-22T19:49:25.353516Z",
     "iopub.status.busy": "2024-05-22T19:49:25.353081Z",
     "iopub.status.idle": "2024-05-22T19:49:25.360510Z",
     "shell.execute_reply": "2024-05-22T19:49:25.359082Z"
    },
    "papermill": {
     "duration": 0.045335,
     "end_time": "2024-05-22T19:49:25.362987",
     "exception": false,
     "start_time": "2024-05-22T19:49:25.317652",
     "status": "completed"
    },
    "tags": []
   },
   "outputs": [
    {
     "data": {
      "text/plain": [
       "array(['No', 'Yes', nan], dtype=object)"
      ]
     },
     "execution_count": 19,
     "metadata": {},
     "output_type": "execute_result"
    }
   ],
   "source": [
    "df[\"Self_Employed\"].unique()"
   ]
  },
  {
   "cell_type": "code",
   "execution_count": 20,
   "id": "505e0778",
   "metadata": {
    "execution": {
     "iopub.execute_input": "2024-05-22T19:49:25.435331Z",
     "iopub.status.busy": "2024-05-22T19:49:25.434900Z",
     "iopub.status.idle": "2024-05-22T19:49:25.443978Z",
     "shell.execute_reply": "2024-05-22T19:49:25.442797Z"
    },
    "papermill": {
     "duration": 0.049044,
     "end_time": "2024-05-22T19:49:25.446524",
     "exception": false,
     "start_time": "2024-05-22T19:49:25.397480",
     "status": "completed"
    },
    "tags": []
   },
   "outputs": [
    {
     "data": {
      "text/plain": [
       "Self_Employed\n",
       "No     500\n",
       "Yes     82\n",
       "Name: count, dtype: int64"
      ]
     },
     "execution_count": 20,
     "metadata": {},
     "output_type": "execute_result"
    }
   ],
   "source": [
    "df[\"Self_Employed\"].value_counts()"
   ]
  },
  {
   "cell_type": "code",
   "execution_count": 21,
   "id": "af552309",
   "metadata": {
    "execution": {
     "iopub.execute_input": "2024-05-22T19:49:25.517289Z",
     "iopub.status.busy": "2024-05-22T19:49:25.516878Z",
     "iopub.status.idle": "2024-05-22T19:49:25.528722Z",
     "shell.execute_reply": "2024-05-22T19:49:25.527574Z"
    },
    "papermill": {
     "duration": 0.049793,
     "end_time": "2024-05-22T19:49:25.531002",
     "exception": false,
     "start_time": "2024-05-22T19:49:25.481209",
     "status": "completed"
    },
    "tags": []
   },
   "outputs": [
    {
     "data": {
      "text/plain": [
       "array([ 5849,  4583,  3000,  2583,  6000,  5417,  2333,  3036,  4006,\n",
       "       12841,  3200,  2500,  3073,  1853,  1299,  4950,  3596,  3510,\n",
       "        4887,  2600,  7660,  5955,  3365,  3717,  9560,  2799,  4226,\n",
       "        1442,  3750,  4166,  3167,  4692,  3500, 12500,  2275,  1828,\n",
       "        3667,  3748,  3600,  1800,  2400,  3941,  4695,  3410,  5649,\n",
       "        5821,  2645,  4000,  1928,  3086,  4230,  4616, 11500,  2708,\n",
       "        2132,  3366,  8080,  3357,  3029,  2609,  4945,  5726, 10750,\n",
       "        7100,  4300,  3208,  1875,  4755,  5266,  1000,  3333,  3846,\n",
       "        2395,  1378,  3988,  2366,  8566,  5695,  2958,  6250,  3273,\n",
       "        4133,  3620,  6782,  2484,  1977,  4188,  1759,  4288,  4843,\n",
       "       13650,  4652,  3816,  3052, 11417,  7333,  3800,  2071,  5316,\n",
       "        2929,  3572,  7451,  5050, 14583,  2214,  5568, 10408,  5667,\n",
       "        2137,  2957,  3692, 23803,  3865, 10513,  6080, 20166,  2014,\n",
       "        2718,  3459,  4895,  3316, 14999,  4200,  5042,  6950,  2698,\n",
       "       11757,  2330, 14866,  1538, 10000,  4860,  6277,  2577,  9166,\n",
       "        2281,  3254, 39999,  9538,  2980,  1863,  7933,  3089,  4167,\n",
       "        9323,  3707,  2439,  2237,  8000,  1820, 51763,  3522,  5708,\n",
       "        4344,  3497,  2045,  5516,  6400,  1916,  4600, 33846,  3625,\n",
       "       39147,  2178,  2383,   674,  9328,  4885, 12000,  6033,  3858,\n",
       "        4191,  3125,  8333,  1907,  3416, 11000,  4923,  3992,  3917,\n",
       "        4408,  3244,  3975,  2479,  3418,  3430,  7787,  5703,  3173,\n",
       "        3850,   150,  3727,  5000,  4283,  2221,  4009,  2971,  7578,\n",
       "        3250,  4735,  4758,  2491,  3716,  3189,  3155,  5500,  5746,\n",
       "        3463,  3812,  3315,  5819,  2510,  2965,  3406,  6050,  9703,\n",
       "        6608,  2882,  1809,  1668,  3427,  2661, 16250,  3083,  6045,\n",
       "        5250, 14683,  4931,  6083,  2060,  3481,  7200,  5166,  4095,\n",
       "        4708,  4333,  2876,  3237, 11146,  2833,  2620,  3900,  2750,\n",
       "        3993,  3103,  4100,  4053,  3927,  2301,  1811, 20667,  3158,\n",
       "        3704,  4124,  9508,  3075,  4400,  3153,  4416,  6875,  4666,\n",
       "        2875,  1625,  2000,  3762, 20233,  7667,  2917,  2927,  2507,\n",
       "        2473,  3399,  2058,  3541,  4342,  3601,  3166, 15000,  8666,\n",
       "        4917,  5818,  4384,  2935, 63337,  9833,  5503,  1830,  4160,\n",
       "        2647,  2378,  4554,  2499,  3523,  6333,  2625,  9083,  8750,\n",
       "        2666,  2423,  3813,  3875,  5167,  4723,  4750,  3013,  6822,\n",
       "        6216,  5124,  6325, 19730, 15759,  5185,  3062,  2764,  4817,\n",
       "        4310,  3069,  5391,  5941,  7167,  4566,  2346,  3010,  5488,\n",
       "        9167,  9504,  1993,  3100,  3276,  3180,  3033,  3902,  1500,\n",
       "        2889,  2755,  1963,  7441,  4547,  2167,  2213,  8300, 81000,\n",
       "        3867,  6256,  6096,  2253,  2149,  2995,  1600,  1025,  3246,\n",
       "        5829,  2720,  7250, 14880,  4606,  5935,  2920,  2717,  8624,\n",
       "        6500, 12876,  2425, 10047,  1926, 10416,  7142,  3660,  7901,\n",
       "        4707, 37719,  3466,  3539,  3340,  2769,  2309,  1958,  3948,\n",
       "        2483,  7085,  3859,  4301,  3708,  4354,  8334,  2083,  7740,\n",
       "        3015,  5191,  2947, 16692,   210,  3450,  2653,  4691,  5532,\n",
       "       16525,  6700,  2873, 16667,  4350,  3095, 10833,  3547, 18333,\n",
       "        2435,  2699,  5333,  3691, 17263,  3597,  3326,  4625,  2895,\n",
       "        6283,   645,  3159,  4865,  4050,  3814, 20833,  3583, 13262,\n",
       "        3598,  6065,  3283,  2130,  5815,  2031,  3074,  4683,  3400,\n",
       "        2192,  5677,  7948,  4680, 17500,  3775,  5285,  2679,  6783,\n",
       "        4281,  3588, 11250, 18165,  2550,  6133,  3617,  6417,  4608,\n",
       "        2138,  3652,  2239,  3017,  2768,  3358,  2526,  2785,  6633,\n",
       "        2492,  2454,  3593,  5468,  2667, 10139,  3887,  4180,  3675,\n",
       "       19484,  5923,  5800,  8799,  4467,  3417,  5116, 16666,  6125,\n",
       "        6406,  3087,  3229,  1782,  3182,  6540,  1836,  1880,  2787,\n",
       "        2297,  2165,  2726,  9357, 16120,  3833,  6383,  2987,  9963,\n",
       "        5780,   416,  2894,  3676,  3987,  3232,  2900,  4106,  8072,\n",
       "        7583])"
      ]
     },
     "execution_count": 21,
     "metadata": {},
     "output_type": "execute_result"
    }
   ],
   "source": [
    "df[\"ApplicantIncome\"].unique()"
   ]
  },
  {
   "cell_type": "code",
   "execution_count": 22,
   "id": "d63f799b",
   "metadata": {
    "execution": {
     "iopub.execute_input": "2024-05-22T19:49:25.601107Z",
     "iopub.status.busy": "2024-05-22T19:49:25.600104Z",
     "iopub.status.idle": "2024-05-22T19:49:25.612142Z",
     "shell.execute_reply": "2024-05-22T19:49:25.610750Z"
    },
    "papermill": {
     "duration": 0.050074,
     "end_time": "2024-05-22T19:49:25.614915",
     "exception": false,
     "start_time": "2024-05-22T19:49:25.564841",
     "status": "completed"
    },
    "tags": []
   },
   "outputs": [
    {
     "data": {
      "text/plain": [
       "array([0.00000000e+00, 1.50800000e+03, 2.35800000e+03, 4.19600000e+03,\n",
       "       1.51600000e+03, 2.50400000e+03, 1.52600000e+03, 1.09680000e+04,\n",
       "       7.00000000e+02, 1.84000000e+03, 8.10600000e+03, 2.84000000e+03,\n",
       "       1.08600000e+03, 3.50000000e+03, 5.62500000e+03, 1.91100000e+03,\n",
       "       1.91700000e+03, 2.92500000e+03, 2.25300000e+03, 1.04000000e+03,\n",
       "       2.08300000e+03, 3.36900000e+03, 1.66700000e+03, 3.00000000e+03,\n",
       "       2.06700000e+03, 1.33000000e+03, 1.45900000e+03, 7.21000000e+03,\n",
       "       1.66800000e+03, 1.21300000e+03, 2.33600000e+03, 3.44000000e+03,\n",
       "       2.27500000e+03, 1.64400000e+03, 1.16700000e+03, 1.59100000e+03,\n",
       "       2.20000000e+03, 2.25000000e+03, 2.85900000e+03, 3.79600000e+03,\n",
       "       3.44900000e+03, 4.59500000e+03, 2.25400000e+03, 3.06600000e+03,\n",
       "       1.87500000e+03, 1.77400000e+03, 4.75000000e+03, 3.02200000e+03,\n",
       "       4.00000000e+03, 2.16600000e+03, 1.88100000e+03, 2.53100000e+03,\n",
       "       2.00000000e+03, 2.11800000e+03, 4.16700000e+03, 2.90000000e+03,\n",
       "       5.65400000e+03, 1.82000000e+03, 2.30200000e+03, 9.97000000e+02,\n",
       "       3.54100000e+03, 3.26300000e+03, 3.80600000e+03, 3.58300000e+03,\n",
       "       7.54000000e+02, 1.03000000e+03, 1.12600000e+03, 3.60000000e+03,\n",
       "       2.33300000e+03, 4.11400000e+03, 2.28300000e+03, 1.39800000e+03,\n",
       "       2.14200000e+03, 2.66700000e+03, 8.98000000e+03, 2.01400000e+03,\n",
       "       1.64000000e+03, 3.85000000e+03, 2.56900000e+03, 1.92900000e+03,\n",
       "       7.75000000e+03, 1.43000000e+03, 2.03400000e+03, 4.48600000e+03,\n",
       "       1.42500000e+03, 1.66600000e+03, 8.30000000e+02, 3.75000000e+03,\n",
       "       1.04100000e+03, 1.28000000e+03, 1.44700000e+03, 3.16600000e+03,\n",
       "       3.33300000e+03, 1.76900000e+03, 7.36000000e+02, 1.96400000e+03,\n",
       "       1.61900000e+03, 1.13000000e+04, 1.45100000e+03, 7.25000000e+03,\n",
       "       5.06300000e+03, 2.13800000e+03, 5.29600000e+03, 2.58300000e+03,\n",
       "       2.36500000e+03, 2.81600000e+03, 2.50000000e+03, 1.08300000e+03,\n",
       "       1.25000000e+03, 3.02100000e+03, 9.83000000e+02, 1.80000000e+03,\n",
       "       1.77500000e+03, 2.38300000e+03, 1.71700000e+03, 2.79100000e+03,\n",
       "       1.01000000e+03, 1.69500000e+03, 2.05400000e+03, 2.59800000e+03,\n",
       "       1.77900000e+03, 1.26000000e+03, 5.00000000e+03, 1.98300000e+03,\n",
       "       5.70100000e+03, 1.30000000e+03, 4.41700000e+03, 4.33300000e+03,\n",
       "       1.84300000e+03, 1.86800000e+03, 3.89000000e+03, 2.16700000e+03,\n",
       "       7.10100000e+03, 2.10000000e+03, 4.25000000e+03, 2.20900000e+03,\n",
       "       3.44700000e+03, 1.38700000e+03, 1.81100000e+03, 1.56000000e+03,\n",
       "       1.85700000e+03, 2.22300000e+03, 1.84200000e+03, 3.27400000e+03,\n",
       "       2.42600000e+03, 8.00000000e+02, 9.85799988e+02, 3.05300000e+03,\n",
       "       2.41600000e+03, 3.33400000e+03, 2.54100000e+03, 2.93400000e+03,\n",
       "       1.75000000e+03, 1.80300000e+03, 1.86300000e+03, 2.40500000e+03,\n",
       "       2.13400000e+03, 1.89000000e+02, 1.59000000e+03, 2.98500000e+03,\n",
       "       4.98300000e+03, 2.16000000e+03, 2.45100000e+03, 1.79300000e+03,\n",
       "       1.83300000e+03, 4.49000000e+03, 6.88000000e+02, 4.60000000e+03,\n",
       "       1.58700000e+03, 1.22900000e+03, 2.33000000e+03, 2.45800000e+03,\n",
       "       3.23000000e+03, 2.16800000e+03, 4.58300000e+03, 6.25000000e+03,\n",
       "       5.05000000e+02, 3.16700000e+03, 3.66700000e+03, 3.03300000e+03,\n",
       "       5.26600000e+03, 7.87300000e+03, 1.98700000e+03, 9.23000000e+02,\n",
       "       4.99600000e+03, 4.23200000e+03, 1.60000000e+03, 3.13600000e+03,\n",
       "       2.41700000e+03, 2.11500000e+03, 1.62500000e+03, 1.40000000e+03,\n",
       "       4.84000000e+02, 2.00000000e+04, 2.40000000e+03, 2.03300000e+03,\n",
       "       3.23700000e+03, 2.77300000e+03, 1.41700000e+03, 1.71900000e+03,\n",
       "       4.30000000e+03, 1.61200008e+01, 2.34000000e+03, 1.85100000e+03,\n",
       "       1.12500000e+03, 5.06400000e+03, 1.99300000e+03, 8.33300000e+03,\n",
       "       1.21000000e+03, 1.37600000e+03, 1.71000000e+03, 1.54200000e+03,\n",
       "       1.25500000e+03, 1.45600000e+03, 1.73300000e+03, 2.46600000e+03,\n",
       "       4.08300000e+03, 2.18800000e+03, 1.66400000e+03, 2.91700000e+03,\n",
       "       2.07900000e+03, 1.50000000e+03, 4.64800000e+03, 1.01400000e+03,\n",
       "       1.87200000e+03, 1.60300000e+03, 3.15000000e+03, 2.43600000e+03,\n",
       "       2.78500000e+03, 1.13100000e+03, 2.15700000e+03, 9.13000000e+02,\n",
       "       1.70000000e+03, 2.85700000e+03, 4.41600000e+03, 3.68300000e+03,\n",
       "       5.62400000e+03, 5.30200000e+03, 1.48300000e+03, 6.66700000e+03,\n",
       "       3.01300000e+03, 1.28700000e+03, 2.00400000e+03, 2.03500000e+03,\n",
       "       6.66600000e+03, 3.66600000e+03, 3.42800000e+03, 1.63200000e+03,\n",
       "       1.91500000e+03, 1.74200000e+03, 1.42400000e+03, 7.16600000e+03,\n",
       "       2.08700000e+03, 1.30200000e+03, 5.50000000e+03, 2.04200000e+03,\n",
       "       3.90600000e+03, 5.36000000e+02, 2.84500000e+03, 2.52400000e+03,\n",
       "       6.63000000e+02, 1.95000000e+03, 1.78300000e+03, 2.01600000e+03,\n",
       "       2.37500000e+03, 3.25000000e+03, 4.26600000e+03, 1.03200000e+03,\n",
       "       2.66900000e+03, 2.30600000e+03, 2.42000000e+02, 2.06400000e+03,\n",
       "       4.61000000e+02, 2.21000000e+03, 2.73900000e+03, 2.23200000e+03,\n",
       "       3.38370000e+04, 1.52200000e+03, 3.41600000e+03, 3.30000000e+03,\n",
       "       1.00000000e+03, 4.16670000e+04, 2.79200000e+03, 4.30100000e+03,\n",
       "       3.80000000e+03, 1.41100000e+03, 2.40000000e+02])"
      ]
     },
     "execution_count": 22,
     "metadata": {},
     "output_type": "execute_result"
    }
   ],
   "source": [
    "df[\"CoapplicantIncome\"].unique()"
   ]
  },
  {
   "cell_type": "code",
   "execution_count": 23,
   "id": "6781aab2",
   "metadata": {
    "execution": {
     "iopub.execute_input": "2024-05-22T19:49:25.684987Z",
     "iopub.status.busy": "2024-05-22T19:49:25.684352Z",
     "iopub.status.idle": "2024-05-22T19:49:25.693769Z",
     "shell.execute_reply": "2024-05-22T19:49:25.692739Z"
    },
    "papermill": {
     "duration": 0.046915,
     "end_time": "2024-05-22T19:49:25.696030",
     "exception": false,
     "start_time": "2024-05-22T19:49:25.649115",
     "status": "completed"
    },
    "tags": []
   },
   "outputs": [
    {
     "data": {
      "text/plain": [
       "array([ nan, 128.,  66., 120., 141., 267.,  95., 158., 168., 349.,  70.,\n",
       "       109., 200., 114.,  17., 125., 100.,  76., 133., 115., 104., 315.,\n",
       "       116., 112., 151., 191., 122., 110.,  35., 201.,  74., 106., 320.,\n",
       "       144., 184.,  80.,  47.,  75., 134.,  96.,  88.,  44., 286.,  97.,\n",
       "       135., 180.,  99., 165., 258., 126., 312., 136., 172.,  81., 187.,\n",
       "       113., 176., 130., 111., 167., 265.,  50., 210., 175., 131., 188.,\n",
       "        25., 137., 160., 225., 216.,  94., 139., 152., 118., 185., 154.,\n",
       "        85., 259., 194.,  93., 370., 182., 650., 102., 290.,  84., 242.,\n",
       "       129.,  30., 244., 600., 255.,  98., 275., 121.,  63., 700.,  87.,\n",
       "       101., 495.,  67.,  73., 260., 108.,  58.,  48., 164., 170.,  83.,\n",
       "        90., 166., 124.,  55.,  59., 127., 214., 240.,  72.,  60., 138.,\n",
       "        42., 280., 140., 155., 123., 279., 192., 304., 330., 150., 207.,\n",
       "       436.,  78.,  54.,  89., 143., 105., 132., 480.,  56., 159., 300.,\n",
       "       376., 117.,  71., 490., 173.,  46., 228., 308., 236., 570., 380.,\n",
       "       296., 156., 103.,  45.,  65.,  53., 360.,  62., 218., 178., 239.,\n",
       "       405., 148., 190., 149., 153., 162., 230.,  86., 234., 246., 500.,\n",
       "       186., 119., 107., 209., 208., 243.,  40., 250., 311., 400., 161.,\n",
       "       196., 324., 157., 145., 181.,  26., 211.,   9., 205.,  36.,  61.,\n",
       "       146., 292., 142., 350., 496., 253.])"
      ]
     },
     "execution_count": 23,
     "metadata": {},
     "output_type": "execute_result"
    }
   ],
   "source": [
    "df[\"LoanAmount\"].unique()"
   ]
  },
  {
   "cell_type": "code",
   "execution_count": 24,
   "id": "3af9d137",
   "metadata": {
    "execution": {
     "iopub.execute_input": "2024-05-22T19:49:25.765763Z",
     "iopub.status.busy": "2024-05-22T19:49:25.765361Z",
     "iopub.status.idle": "2024-05-22T19:49:25.778081Z",
     "shell.execute_reply": "2024-05-22T19:49:25.776898Z"
    },
    "papermill": {
     "duration": 0.050292,
     "end_time": "2024-05-22T19:49:25.780339",
     "exception": false,
     "start_time": "2024-05-22T19:49:25.730047",
     "status": "completed"
    },
    "tags": []
   },
   "outputs": [
    {
     "data": {
      "text/plain": [
       "LoanAmount\n",
       "120.0    20\n",
       "110.0    17\n",
       "100.0    15\n",
       "160.0    12\n",
       "187.0    12\n",
       "         ..\n",
       "240.0     1\n",
       "214.0     1\n",
       "59.0      1\n",
       "166.0     1\n",
       "253.0     1\n",
       "Name: count, Length: 203, dtype: int64"
      ]
     },
     "execution_count": 24,
     "metadata": {},
     "output_type": "execute_result"
    }
   ],
   "source": [
    "df[\"LoanAmount\"].value_counts()"
   ]
  },
  {
   "cell_type": "code",
   "execution_count": 25,
   "id": "d4c3d220",
   "metadata": {
    "execution": {
     "iopub.execute_input": "2024-05-22T19:49:25.850872Z",
     "iopub.status.busy": "2024-05-22T19:49:25.850186Z",
     "iopub.status.idle": "2024-05-22T19:49:25.857886Z",
     "shell.execute_reply": "2024-05-22T19:49:25.856610Z"
    },
    "papermill": {
     "duration": 0.045836,
     "end_time": "2024-05-22T19:49:25.860307",
     "exception": false,
     "start_time": "2024-05-22T19:49:25.814471",
     "status": "completed"
    },
    "tags": []
   },
   "outputs": [
    {
     "data": {
      "text/plain": [
       "array([360., 120., 240.,  nan, 180.,  60., 300., 480.,  36.,  84.,  12.])"
      ]
     },
     "execution_count": 25,
     "metadata": {},
     "output_type": "execute_result"
    }
   ],
   "source": [
    "df[\"Loan_Amount_Term\"].unique()"
   ]
  },
  {
   "cell_type": "code",
   "execution_count": 26,
   "id": "ad9e8c21",
   "metadata": {
    "execution": {
     "iopub.execute_input": "2024-05-22T19:49:25.930898Z",
     "iopub.status.busy": "2024-05-22T19:49:25.930504Z",
     "iopub.status.idle": "2024-05-22T19:49:25.938941Z",
     "shell.execute_reply": "2024-05-22T19:49:25.937964Z"
    },
    "papermill": {
     "duration": 0.046411,
     "end_time": "2024-05-22T19:49:25.941184",
     "exception": false,
     "start_time": "2024-05-22T19:49:25.894773",
     "status": "completed"
    },
    "tags": []
   },
   "outputs": [
    {
     "data": {
      "text/plain": [
       "Loan_Amount_Term\n",
       "360.0    512\n",
       "180.0     44\n",
       "480.0     15\n",
       "300.0     13\n",
       "240.0      4\n",
       "84.0       4\n",
       "120.0      3\n",
       "60.0       2\n",
       "36.0       2\n",
       "12.0       1\n",
       "Name: count, dtype: int64"
      ]
     },
     "execution_count": 26,
     "metadata": {},
     "output_type": "execute_result"
    }
   ],
   "source": [
    "df[\"Loan_Amount_Term\"].value_counts()"
   ]
  },
  {
   "cell_type": "code",
   "execution_count": 27,
   "id": "6f77f6d3",
   "metadata": {
    "execution": {
     "iopub.execute_input": "2024-05-22T19:49:26.013068Z",
     "iopub.status.busy": "2024-05-22T19:49:26.012015Z",
     "iopub.status.idle": "2024-05-22T19:49:26.019926Z",
     "shell.execute_reply": "2024-05-22T19:49:26.018865Z"
    },
    "papermill": {
     "duration": 0.046475,
     "end_time": "2024-05-22T19:49:26.022259",
     "exception": false,
     "start_time": "2024-05-22T19:49:25.975784",
     "status": "completed"
    },
    "tags": []
   },
   "outputs": [
    {
     "data": {
      "text/plain": [
       "array([ 1.,  0., nan])"
      ]
     },
     "execution_count": 27,
     "metadata": {},
     "output_type": "execute_result"
    }
   ],
   "source": [
    "df[\"Credit_History\"].unique()"
   ]
  },
  {
   "cell_type": "code",
   "execution_count": 28,
   "id": "249ebdb5",
   "metadata": {
    "execution": {
     "iopub.execute_input": "2024-05-22T19:49:26.094042Z",
     "iopub.status.busy": "2024-05-22T19:49:26.093641Z",
     "iopub.status.idle": "2024-05-22T19:49:26.101237Z",
     "shell.execute_reply": "2024-05-22T19:49:26.099959Z"
    },
    "papermill": {
     "duration": 0.046091,
     "end_time": "2024-05-22T19:49:26.103642",
     "exception": false,
     "start_time": "2024-05-22T19:49:26.057551",
     "status": "completed"
    },
    "tags": []
   },
   "outputs": [
    {
     "data": {
      "text/plain": [
       "array([ 1.,  0., nan])"
      ]
     },
     "execution_count": 28,
     "metadata": {},
     "output_type": "execute_result"
    }
   ],
   "source": [
    "df[\"Credit_History\"].unique()"
   ]
  },
  {
   "cell_type": "code",
   "execution_count": 29,
   "id": "699facb1",
   "metadata": {
    "execution": {
     "iopub.execute_input": "2024-05-22T19:49:26.175692Z",
     "iopub.status.busy": "2024-05-22T19:49:26.175255Z",
     "iopub.status.idle": "2024-05-22T19:49:26.184577Z",
     "shell.execute_reply": "2024-05-22T19:49:26.183402Z"
    },
    "papermill": {
     "duration": 0.04886,
     "end_time": "2024-05-22T19:49:26.187354",
     "exception": false,
     "start_time": "2024-05-22T19:49:26.138494",
     "status": "completed"
    },
    "tags": []
   },
   "outputs": [
    {
     "data": {
      "text/plain": [
       "Credit_History\n",
       "1.0    475\n",
       "0.0     89\n",
       "Name: count, dtype: int64"
      ]
     },
     "execution_count": 29,
     "metadata": {},
     "output_type": "execute_result"
    }
   ],
   "source": [
    "df[\"Credit_History\"].value_counts()"
   ]
  },
  {
   "cell_type": "code",
   "execution_count": 30,
   "id": "7de12303",
   "metadata": {
    "execution": {
     "iopub.execute_input": "2024-05-22T19:49:26.261372Z",
     "iopub.status.busy": "2024-05-22T19:49:26.260916Z",
     "iopub.status.idle": "2024-05-22T19:49:26.267303Z",
     "shell.execute_reply": "2024-05-22T19:49:26.266489Z"
    },
    "papermill": {
     "duration": 0.046272,
     "end_time": "2024-05-22T19:49:26.269364",
     "exception": false,
     "start_time": "2024-05-22T19:49:26.223092",
     "status": "completed"
    },
    "tags": []
   },
   "outputs": [
    {
     "data": {
      "text/plain": [
       "array(['Urban', 'Rural', 'Semiurban'], dtype=object)"
      ]
     },
     "execution_count": 30,
     "metadata": {},
     "output_type": "execute_result"
    }
   ],
   "source": [
    "df[\"Property_Area\"].unique()"
   ]
  },
  {
   "cell_type": "code",
   "execution_count": 31,
   "id": "96e062c0",
   "metadata": {
    "execution": {
     "iopub.execute_input": "2024-05-22T19:49:26.342972Z",
     "iopub.status.busy": "2024-05-22T19:49:26.341988Z",
     "iopub.status.idle": "2024-05-22T19:49:26.351395Z",
     "shell.execute_reply": "2024-05-22T19:49:26.350274Z"
    },
    "papermill": {
     "duration": 0.04986,
     "end_time": "2024-05-22T19:49:26.354237",
     "exception": false,
     "start_time": "2024-05-22T19:49:26.304377",
     "status": "completed"
    },
    "tags": []
   },
   "outputs": [
    {
     "data": {
      "text/plain": [
       "Property_Area\n",
       "Semiurban    233\n",
       "Urban        202\n",
       "Rural        179\n",
       "Name: count, dtype: int64"
      ]
     },
     "execution_count": 31,
     "metadata": {},
     "output_type": "execute_result"
    }
   ],
   "source": [
    "df[\"Property_Area\"].value_counts()"
   ]
  },
  {
   "cell_type": "code",
   "execution_count": 32,
   "id": "29c41316",
   "metadata": {
    "execution": {
     "iopub.execute_input": "2024-05-22T19:49:26.427182Z",
     "iopub.status.busy": "2024-05-22T19:49:26.426757Z",
     "iopub.status.idle": "2024-05-22T19:49:26.435229Z",
     "shell.execute_reply": "2024-05-22T19:49:26.434018Z"
    },
    "papermill": {
     "duration": 0.048087,
     "end_time": "2024-05-22T19:49:26.437933",
     "exception": false,
     "start_time": "2024-05-22T19:49:26.389846",
     "status": "completed"
    },
    "tags": []
   },
   "outputs": [
    {
     "data": {
      "text/plain": [
       "array(['Y', 'N'], dtype=object)"
      ]
     },
     "execution_count": 32,
     "metadata": {},
     "output_type": "execute_result"
    }
   ],
   "source": [
    "df[\"Loan_Status\"].unique()"
   ]
  },
  {
   "cell_type": "code",
   "execution_count": 33,
   "id": "1adc6c19",
   "metadata": {
    "execution": {
     "iopub.execute_input": "2024-05-22T19:49:26.511961Z",
     "iopub.status.busy": "2024-05-22T19:49:26.511557Z",
     "iopub.status.idle": "2024-05-22T19:49:26.520678Z",
     "shell.execute_reply": "2024-05-22T19:49:26.519435Z"
    },
    "papermill": {
     "duration": 0.048467,
     "end_time": "2024-05-22T19:49:26.522954",
     "exception": false,
     "start_time": "2024-05-22T19:49:26.474487",
     "status": "completed"
    },
    "tags": []
   },
   "outputs": [
    {
     "data": {
      "text/plain": [
       "Loan_Status\n",
       "Y    422\n",
       "N    192\n",
       "Name: count, dtype: int64"
      ]
     },
     "execution_count": 33,
     "metadata": {},
     "output_type": "execute_result"
    }
   ],
   "source": [
    "df[\"Loan_Status\"].value_counts()"
   ]
  },
  {
   "cell_type": "code",
   "execution_count": 34,
   "id": "cbfdfb3f",
   "metadata": {
    "execution": {
     "iopub.execute_input": "2024-05-22T19:49:26.596711Z",
     "iopub.status.busy": "2024-05-22T19:49:26.596283Z",
     "iopub.status.idle": "2024-05-22T19:49:26.602629Z",
     "shell.execute_reply": "2024-05-22T19:49:26.601448Z"
    },
    "papermill": {
     "duration": 0.045887,
     "end_time": "2024-05-22T19:49:26.604980",
     "exception": false,
     "start_time": "2024-05-22T19:49:26.559093",
     "status": "completed"
    },
    "tags": []
   },
   "outputs": [],
   "source": [
    "continous=['ApplicantIncome','CoapplicantIncome','LoanAmount']\n",
    "discrete_category=['Gender', 'Married', 'Education', 'Self_Employed', \n",
    "                   'Loan_Status', 'Credit_History', 'Property_Area']\n",
    "discrete_count=['Dependents','Loan_Amount_Term']"
   ]
  },
  {
   "cell_type": "code",
   "execution_count": 35,
   "id": "aa44163c",
   "metadata": {
    "execution": {
     "iopub.execute_input": "2024-05-22T19:49:26.678666Z",
     "iopub.status.busy": "2024-05-22T19:49:26.678234Z",
     "iopub.status.idle": "2024-05-22T19:49:26.702192Z",
     "shell.execute_reply": "2024-05-22T19:49:26.701037Z"
    },
    "papermill": {
     "duration": 0.063851,
     "end_time": "2024-05-22T19:49:26.704733",
     "exception": false,
     "start_time": "2024-05-22T19:49:26.640882",
     "status": "completed"
    },
    "tags": []
   },
   "outputs": [
    {
     "data": {
      "text/html": [
       "<div>\n",
       "<style scoped>\n",
       "    .dataframe tbody tr th:only-of-type {\n",
       "        vertical-align: middle;\n",
       "    }\n",
       "\n",
       "    .dataframe tbody tr th {\n",
       "        vertical-align: top;\n",
       "    }\n",
       "\n",
       "    .dataframe thead th {\n",
       "        text-align: right;\n",
       "    }\n",
       "</style>\n",
       "<table border=\"1\" class=\"dataframe\">\n",
       "  <thead>\n",
       "    <tr style=\"text-align: right;\">\n",
       "      <th></th>\n",
       "      <th>ApplicantIncome</th>\n",
       "      <th>CoapplicantIncome</th>\n",
       "      <th>LoanAmount</th>\n",
       "    </tr>\n",
       "  </thead>\n",
       "  <tbody>\n",
       "    <tr>\n",
       "      <th>count</th>\n",
       "      <td>614.000000</td>\n",
       "      <td>614.000000</td>\n",
       "      <td>592.000000</td>\n",
       "    </tr>\n",
       "    <tr>\n",
       "      <th>mean</th>\n",
       "      <td>5403.459283</td>\n",
       "      <td>1621.245798</td>\n",
       "      <td>146.412162</td>\n",
       "    </tr>\n",
       "    <tr>\n",
       "      <th>std</th>\n",
       "      <td>6109.041673</td>\n",
       "      <td>2926.248369</td>\n",
       "      <td>85.587325</td>\n",
       "    </tr>\n",
       "    <tr>\n",
       "      <th>min</th>\n",
       "      <td>150.000000</td>\n",
       "      <td>0.000000</td>\n",
       "      <td>9.000000</td>\n",
       "    </tr>\n",
       "    <tr>\n",
       "      <th>25%</th>\n",
       "      <td>2877.500000</td>\n",
       "      <td>0.000000</td>\n",
       "      <td>100.000000</td>\n",
       "    </tr>\n",
       "    <tr>\n",
       "      <th>50%</th>\n",
       "      <td>3812.500000</td>\n",
       "      <td>1188.500000</td>\n",
       "      <td>128.000000</td>\n",
       "    </tr>\n",
       "    <tr>\n",
       "      <th>75%</th>\n",
       "      <td>5795.000000</td>\n",
       "      <td>2297.250000</td>\n",
       "      <td>168.000000</td>\n",
       "    </tr>\n",
       "    <tr>\n",
       "      <th>max</th>\n",
       "      <td>81000.000000</td>\n",
       "      <td>41667.000000</td>\n",
       "      <td>700.000000</td>\n",
       "    </tr>\n",
       "  </tbody>\n",
       "</table>\n",
       "</div>"
      ],
      "text/plain": [
       "       ApplicantIncome  CoapplicantIncome  LoanAmount\n",
       "count       614.000000         614.000000  592.000000\n",
       "mean       5403.459283        1621.245798  146.412162\n",
       "std        6109.041673        2926.248369   85.587325\n",
       "min         150.000000           0.000000    9.000000\n",
       "25%        2877.500000           0.000000  100.000000\n",
       "50%        3812.500000        1188.500000  128.000000\n",
       "75%        5795.000000        2297.250000  168.000000\n",
       "max       81000.000000       41667.000000  700.000000"
      ]
     },
     "execution_count": 35,
     "metadata": {},
     "output_type": "execute_result"
    }
   ],
   "source": [
    "df[continous].describe()"
   ]
  },
  {
   "cell_type": "markdown",
   "id": "415849ae",
   "metadata": {
    "papermill": {
     "duration": 0.036251,
     "end_time": "2024-05-22T19:49:26.777939",
     "exception": false,
     "start_time": "2024-05-22T19:49:26.741688",
     "status": "completed"
    },
    "tags": []
   },
   "source": [
    "# Data Visualization"
   ]
  },
  {
   "cell_type": "markdown",
   "id": "659fc7be",
   "metadata": {
    "papermill": {
     "duration": 0.035591,
     "end_time": "2024-05-22T19:49:26.850067",
     "exception": false,
     "start_time": "2024-05-22T19:49:26.814476",
     "status": "completed"
    },
    "tags": []
   },
   "source": [
    "**For Continous Columns**"
   ]
  },
  {
   "cell_type": "code",
   "execution_count": 36,
   "id": "2327a727",
   "metadata": {
    "execution": {
     "iopub.execute_input": "2024-05-22T19:49:26.925494Z",
     "iopub.status.busy": "2024-05-22T19:49:26.925044Z",
     "iopub.status.idle": "2024-05-22T19:49:28.261778Z",
     "shell.execute_reply": "2024-05-22T19:49:28.260294Z"
    },
    "papermill": {
     "duration": 1.37772,
     "end_time": "2024-05-22T19:49:28.264896",
     "exception": false,
     "start_time": "2024-05-22T19:49:26.887176",
     "status": "completed"
    },
    "tags": []
   },
   "outputs": [
    {
     "data": {
      "image/png": "[encoded data removed]",
      "text/plain": [
       "<Figure size 1800x800 with 3 Axes>"
      ]
     },
     "metadata": {},
     "output_type": "display_data"
    }
   ],
   "source": [
    "plt.rcParams[\"figure.figsize\"] = (18, 8)\n",
    "\n",
    "plt.subplot(1, 3, 1)\n",
    "sns.histplot(df[\"ApplicantIncome\"], kde=True)\n",
    "\n",
    "plt.subplot(1, 3, 2)\n",
    "sns.histplot(df[\"CoapplicantIncome\"], kde=True)\n",
    "\n",
    "plt.subplot(1, 3, 3)\n",
    "sns.histplot(df[\"LoanAmount\"], kde=True)\n",
    "\n",
    "plt.suptitle('Income Distribution')\n",
    "plt.show()"
   ]
  },
  {
   "cell_type": "code",
   "execution_count": 37,
   "id": "f7bf0e0c",
   "metadata": {
    "execution": {
     "iopub.execute_input": "2024-05-22T19:49:28.342581Z",
     "iopub.status.busy": "2024-05-22T19:49:28.342140Z",
     "iopub.status.idle": "2024-05-22T19:49:28.353704Z",
     "shell.execute_reply": "2024-05-22T19:49:28.352509Z"
    },
    "papermill": {
     "duration": 0.052865,
     "end_time": "2024-05-22T19:49:28.355852",
     "exception": false,
     "start_time": "2024-05-22T19:49:28.302987",
     "status": "completed"
    },
    "tags": []
   },
   "outputs": [
    {
     "data": {
      "text/plain": [
       "ApplicantIncome      6.539513\n",
       "CoapplicantIncome    7.491531\n",
       "LoanAmount           2.677552\n",
       "dtype: float64"
      ]
     },
     "execution_count": 37,
     "metadata": {},
     "output_type": "execute_result"
    }
   ],
   "source": [
    "df[continous].skew()"
   ]
  },
  {
   "cell_type": "code",
   "execution_count": 38,
   "id": "a8129d42",
   "metadata": {
    "execution": {
     "iopub.execute_input": "2024-05-22T19:49:28.433556Z",
     "iopub.status.busy": "2024-05-22T19:49:28.433111Z",
     "iopub.status.idle": "2024-05-22T19:49:31.579081Z",
     "shell.execute_reply": "2024-05-22T19:49:31.577928Z"
    },
    "papermill": {
     "duration": 3.187331,
     "end_time": "2024-05-22T19:49:31.581789",
     "exception": false,
     "start_time": "2024-05-22T19:49:28.394458",
     "status": "completed"
    },
    "tags": []
   },
   "outputs": [
    {
     "data": {
      "image/png": "[encoded data removed]",
      "text/plain": [
       "<Figure size 750x750 with 12 Axes>"
      ]
     },
     "metadata": {},
     "output_type": "display_data"
    }
   ],
   "source": [
    "sns.pairplot(df[continous])\n",
    "plt.show()"
   ]
  },
  {
   "cell_type": "code",
   "execution_count": 39,
   "id": "cf1cf61a",
   "metadata": {
    "execution": {
     "iopub.execute_input": "2024-05-22T19:49:31.663160Z",
     "iopub.status.busy": "2024-05-22T19:49:31.662752Z",
     "iopub.status.idle": "2024-05-22T19:49:32.037465Z",
     "shell.execute_reply": "2024-05-22T19:49:32.036248Z"
    },
    "papermill": {
     "duration": 0.419874,
     "end_time": "2024-05-22T19:49:32.040000",
     "exception": false,
     "start_time": "2024-05-22T19:49:31.620126",
     "status": "completed"
    },
    "tags": []
   },
   "outputs": [
    {
     "data": {
      "image/png": "[encoded data removed]",
      "text/plain": [
       "<Figure size 1800x800 with 2 Axes>"
      ]
     },
     "metadata": {},
     "output_type": "display_data"
    }
   ],
   "source": [
    "sns.heatmap(df[continous].corr(),annot=True)\n",
    "plt.show()"
   ]
  },
  {
   "cell_type": "code",
   "execution_count": 40,
   "id": "7b80da60",
   "metadata": {
    "execution": {
     "iopub.execute_input": "2024-05-22T19:49:32.122672Z",
     "iopub.status.busy": "2024-05-22T19:49:32.122249Z",
     "iopub.status.idle": "2024-05-22T19:49:32.632878Z",
     "shell.execute_reply": "2024-05-22T19:49:32.631687Z"
    },
    "papermill": {
     "duration": 0.555325,
     "end_time": "2024-05-22T19:49:32.636416",
     "exception": false,
     "start_time": "2024-05-22T19:49:32.081091",
     "status": "completed"
    },
    "tags": []
   },
   "outputs": [
    {
     "data": {
      "image/png": "[encoded data removed]",
      "text/plain": [
       "<Figure size 1800x800 with 3 Axes>"
      ]
     },
     "metadata": {},
     "output_type": "display_data"
    }
   ],
   "source": [
    "plt.subplot(1,3,1)\n",
    "sns.boxplot(df[\"ApplicantIncome\"])\n",
    "\n",
    "plt.subplot(1,3,2)\n",
    "sns.boxplot(df[\"CoapplicantIncome\"])\n",
    "\n",
    "plt.subplot(1,3,3)\n",
    "sns.boxplot(df[\"LoanAmount\"])\n",
    "\n",
    "plt.suptitle(\"Outliers\")\n",
    "plt.show()"
   ]
  },
  {
   "cell_type": "code",
   "execution_count": 41,
   "id": "681ebd8f",
   "metadata": {
    "execution": {
     "iopub.execute_input": "2024-05-22T19:49:32.719232Z",
     "iopub.status.busy": "2024-05-22T19:49:32.718789Z",
     "iopub.status.idle": "2024-05-22T19:49:32.740677Z",
     "shell.execute_reply": "2024-05-22T19:49:32.739307Z"
    },
    "papermill": {
     "duration": 0.066451,
     "end_time": "2024-05-22T19:49:32.743301",
     "exception": false,
     "start_time": "2024-05-22T19:49:32.676850",
     "status": "completed"
    },
    "tags": []
   },
   "outputs": [
    {
     "data": {
      "text/html": [
       "<div>\n",
       "<style scoped>\n",
       "    .dataframe tbody tr th:only-of-type {\n",
       "        vertical-align: middle;\n",
       "    }\n",
       "\n",
       "    .dataframe tbody tr th {\n",
       "        vertical-align: top;\n",
       "    }\n",
       "\n",
       "    .dataframe thead th {\n",
       "        text-align: right;\n",
       "    }\n",
       "</style>\n",
       "<table border=\"1\" class=\"dataframe\">\n",
       "  <thead>\n",
       "    <tr style=\"text-align: right;\">\n",
       "      <th></th>\n",
       "      <th>Gender</th>\n",
       "      <th>Married</th>\n",
       "      <th>Education</th>\n",
       "      <th>Self_Employed</th>\n",
       "      <th>Loan_Status</th>\n",
       "      <th>Credit_History</th>\n",
       "      <th>Property_Area</th>\n",
       "    </tr>\n",
       "  </thead>\n",
       "  <tbody>\n",
       "    <tr>\n",
       "      <th>0</th>\n",
       "      <td>Male</td>\n",
       "      <td>No</td>\n",
       "      <td>Graduate</td>\n",
       "      <td>No</td>\n",
       "      <td>Y</td>\n",
       "      <td>1.0</td>\n",
       "      <td>Urban</td>\n",
       "    </tr>\n",
       "    <tr>\n",
       "      <th>1</th>\n",
       "      <td>Male</td>\n",
       "      <td>Yes</td>\n",
       "      <td>Graduate</td>\n",
       "      <td>No</td>\n",
       "      <td>N</td>\n",
       "      <td>1.0</td>\n",
       "      <td>Rural</td>\n",
       "    </tr>\n",
       "    <tr>\n",
       "      <th>2</th>\n",
       "      <td>Male</td>\n",
       "      <td>Yes</td>\n",
       "      <td>Graduate</td>\n",
       "      <td>Yes</td>\n",
       "      <td>Y</td>\n",
       "      <td>1.0</td>\n",
       "      <td>Urban</td>\n",
       "    </tr>\n",
       "    <tr>\n",
       "      <th>3</th>\n",
       "      <td>Male</td>\n",
       "      <td>Yes</td>\n",
       "      <td>Not Graduate</td>\n",
       "      <td>No</td>\n",
       "      <td>Y</td>\n",
       "      <td>1.0</td>\n",
       "      <td>Urban</td>\n",
       "    </tr>\n",
       "    <tr>\n",
       "      <th>4</th>\n",
       "      <td>Male</td>\n",
       "      <td>No</td>\n",
       "      <td>Graduate</td>\n",
       "      <td>No</td>\n",
       "      <td>Y</td>\n",
       "      <td>1.0</td>\n",
       "      <td>Urban</td>\n",
       "    </tr>\n",
       "    <tr>\n",
       "      <th>...</th>\n",
       "      <td>...</td>\n",
       "      <td>...</td>\n",
       "      <td>...</td>\n",
       "      <td>...</td>\n",
       "      <td>...</td>\n",
       "      <td>...</td>\n",
       "      <td>...</td>\n",
       "    </tr>\n",
       "    <tr>\n",
       "      <th>609</th>\n",
       "      <td>Female</td>\n",
       "      <td>No</td>\n",
       "      <td>Graduate</td>\n",
       "      <td>No</td>\n",
       "      <td>Y</td>\n",
       "      <td>1.0</td>\n",
       "      <td>Rural</td>\n",
       "    </tr>\n",
       "    <tr>\n",
       "      <th>610</th>\n",
       "      <td>Male</td>\n",
       "      <td>Yes</td>\n",
       "      <td>Graduate</td>\n",
       "      <td>No</td>\n",
       "      <td>Y</td>\n",
       "      <td>1.0</td>\n",
       "      <td>Rural</td>\n",
       "    </tr>\n",
       "    <tr>\n",
       "      <th>611</th>\n",
       "      <td>Male</td>\n",
       "      <td>Yes</td>\n",
       "      <td>Graduate</td>\n",
       "      <td>No</td>\n",
       "      <td>Y</td>\n",
       "      <td>1.0</td>\n",
       "      <td>Urban</td>\n",
       "    </tr>\n",
       "    <tr>\n",
       "      <th>612</th>\n",
       "      <td>Male</td>\n",
       "      <td>Yes</td>\n",
       "      <td>Graduate</td>\n",
       "      <td>No</td>\n",
       "      <td>Y</td>\n",
       "      <td>1.0</td>\n",
       "      <td>Urban</td>\n",
       "    </tr>\n",
       "    <tr>\n",
       "      <th>613</th>\n",
       "      <td>Female</td>\n",
       "      <td>No</td>\n",
       "      <td>Graduate</td>\n",
       "      <td>Yes</td>\n",
       "      <td>N</td>\n",
       "      <td>0.0</td>\n",
       "      <td>Semiurban</td>\n",
       "    </tr>\n",
       "  </tbody>\n",
       "</table>\n",
       "<p>614 rows × 7 columns</p>\n",
       "</div>"
      ],
      "text/plain": [
       "     Gender Married     Education Self_Employed Loan_Status  Credit_History  \\\n",
       "0      Male      No      Graduate            No           Y             1.0   \n",
       "1      Male     Yes      Graduate            No           N             1.0   \n",
       "2      Male     Yes      Graduate           Yes           Y             1.0   \n",
       "3      Male     Yes  Not Graduate            No           Y             1.0   \n",
       "4      Male      No      Graduate            No           Y             1.0   \n",
       "..      ...     ...           ...           ...         ...             ...   \n",
       "609  Female      No      Graduate            No           Y             1.0   \n",
       "610    Male     Yes      Graduate            No           Y             1.0   \n",
       "611    Male     Yes      Graduate            No           Y             1.0   \n",
       "612    Male     Yes      Graduate            No           Y             1.0   \n",
       "613  Female      No      Graduate           Yes           N             0.0   \n",
       "\n",
       "    Property_Area  \n",
       "0           Urban  \n",
       "1           Rural  \n",
       "2           Urban  \n",
       "3           Urban  \n",
       "4           Urban  \n",
       "..            ...  \n",
       "609         Rural  \n",
       "610         Rural  \n",
       "611         Urban  \n",
       "612         Urban  \n",
       "613     Semiurban  \n",
       "\n",
       "[614 rows x 7 columns]"
      ]
     },
     "execution_count": 41,
     "metadata": {},
     "output_type": "execute_result"
    }
   ],
   "source": [
    "df[discrete_category]"
   ]
  },
  {
   "cell_type": "markdown",
   "id": "3d7f3bdc",
   "metadata": {
    "papermill": {
     "duration": 0.040456,
     "end_time": "2024-05-22T19:49:32.824895",
     "exception": false,
     "start_time": "2024-05-22T19:49:32.784439",
     "status": "completed"
    },
    "tags": []
   },
   "source": [
    "**For Discrete Columns**"
   ]
  },
  {
   "cell_type": "markdown",
   "id": "d88f26f7",
   "metadata": {
    "papermill": {
     "duration": 0.039652,
     "end_time": "2024-05-22T19:49:32.904575",
     "exception": false,
     "start_time": "2024-05-22T19:49:32.864923",
     "status": "completed"
    },
    "tags": []
   },
   "source": [
    "# Data Preprocessing"
   ]
  },
  {
   "cell_type": "code",
   "execution_count": 42,
   "id": "b2ecc72e",
   "metadata": {
    "execution": {
     "iopub.execute_input": "2024-05-22T19:49:32.988489Z",
     "iopub.status.busy": "2024-05-22T19:49:32.988046Z",
     "iopub.status.idle": "2024-05-22T19:49:32.994699Z",
     "shell.execute_reply": "2024-05-22T19:49:32.993308Z"
    },
    "papermill": {
     "duration": 0.052503,
     "end_time": "2024-05-22T19:49:32.997415",
     "exception": false,
     "start_time": "2024-05-22T19:49:32.944912",
     "status": "completed"
    },
    "tags": []
   },
   "outputs": [],
   "source": [
    "df[\"Income\"]=df[\"ApplicantIncome\"]+df[\"CoapplicantIncome\"]"
   ]
  },
  {
   "cell_type": "code",
   "execution_count": 43,
   "id": "c68ead4c",
   "metadata": {
    "execution": {
     "iopub.execute_input": "2024-05-22T19:49:33.080954Z",
     "iopub.status.busy": "2024-05-22T19:49:33.080540Z",
     "iopub.status.idle": "2024-05-22T19:49:33.086974Z",
     "shell.execute_reply": "2024-05-22T19:49:33.085745Z"
    },
    "papermill": {
     "duration": 0.051631,
     "end_time": "2024-05-22T19:49:33.089610",
     "exception": false,
     "start_time": "2024-05-22T19:49:33.037979",
     "status": "completed"
    },
    "tags": []
   },
   "outputs": [],
   "source": [
    "df.drop(columns=[\"ApplicantIncome\",\"CoapplicantIncome\"],inplace=True)"
   ]
  },
  {
   "cell_type": "markdown",
   "id": "8bf791e6",
   "metadata": {
    "papermill": {
     "duration": 0.04182,
     "end_time": "2024-05-22T19:49:33.171951",
     "exception": false,
     "start_time": "2024-05-22T19:49:33.130131",
     "status": "completed"
    },
    "tags": []
   },
   "source": [
    "**Modifying wrong data**"
   ]
  },
  {
   "cell_type": "code",
   "execution_count": 44,
   "id": "ee1ba3de",
   "metadata": {
    "execution": {
     "iopub.execute_input": "2024-05-22T19:49:33.255086Z",
     "iopub.status.busy": "2024-05-22T19:49:33.254686Z",
     "iopub.status.idle": "2024-05-22T19:49:33.261437Z",
     "shell.execute_reply": "2024-05-22T19:49:33.260276Z"
    },
    "papermill": {
     "duration": 0.051486,
     "end_time": "2024-05-22T19:49:33.264107",
     "exception": false,
     "start_time": "2024-05-22T19:49:33.212621",
     "status": "completed"
    },
    "tags": []
   },
   "outputs": [],
   "source": [
    "df[\"Dependents\"]=df[\"Dependents\"].replace({\"3+\":3})"
   ]
  },
  {
   "cell_type": "code",
   "execution_count": 45,
   "id": "b54d9685",
   "metadata": {
    "execution": {
     "iopub.execute_input": "2024-05-22T19:49:33.346716Z",
     "iopub.status.busy": "2024-05-22T19:49:33.346323Z",
     "iopub.status.idle": "2024-05-22T19:49:33.356022Z",
     "shell.execute_reply": "2024-05-22T19:49:33.354809Z"
    },
    "papermill": {
     "duration": 0.053413,
     "end_time": "2024-05-22T19:49:33.358446",
     "exception": false,
     "start_time": "2024-05-22T19:49:33.305033",
     "status": "completed"
    },
    "tags": []
   },
   "outputs": [
    {
     "data": {
      "text/plain": [
       "Gender              13\n",
       "Married              3\n",
       "Dependents          15\n",
       "Education            0\n",
       "Self_Employed       32\n",
       "LoanAmount          22\n",
       "Loan_Amount_Term    14\n",
       "Credit_History      50\n",
       "Property_Area        0\n",
       "Loan_Status          0\n",
       "Income               0\n",
       "dtype: int64"
      ]
     },
     "execution_count": 45,
     "metadata": {},
     "output_type": "execute_result"
    }
   ],
   "source": [
    "df.isna().sum()"
   ]
  },
  {
   "cell_type": "markdown",
   "id": "0e7ebff1",
   "metadata": {
    "papermill": {
     "duration": 0.040681,
     "end_time": "2024-05-22T19:49:33.439770",
     "exception": false,
     "start_time": "2024-05-22T19:49:33.399089",
     "status": "completed"
    },
    "tags": []
   },
   "source": [
    "**Encoding**"
   ]
  },
  {
   "cell_type": "code",
   "execution_count": 46,
   "id": "299d3708",
   "metadata": {
    "execution": {
     "iopub.execute_input": "2024-05-22T19:49:33.523620Z",
     "iopub.status.busy": "2024-05-22T19:49:33.523130Z",
     "iopub.status.idle": "2024-05-22T19:49:33.531103Z",
     "shell.execute_reply": "2024-05-22T19:49:33.530278Z"
    },
    "papermill": {
     "duration": 0.052981,
     "end_time": "2024-05-22T19:49:33.533301",
     "exception": false,
     "start_time": "2024-05-22T19:49:33.480320",
     "status": "completed"
    },
    "tags": []
   },
   "outputs": [],
   "source": [
    "df=df.dropna(subset=[\"Income\",\"LoanAmount\",\"Loan_Amount_Term\",\"Credit_History\",\"Self_Employed\"])"
   ]
  },
  {
   "cell_type": "code",
   "execution_count": 47,
   "id": "1a64e611",
   "metadata": {
    "execution": {
     "iopub.execute_input": "2024-05-22T19:49:33.615769Z",
     "iopub.status.busy": "2024-05-22T19:49:33.615382Z",
     "iopub.status.idle": "2024-05-22T19:49:33.621482Z",
     "shell.execute_reply": "2024-05-22T19:49:33.620292Z"
    },
    "papermill": {
     "duration": 0.050292,
     "end_time": "2024-05-22T19:49:33.623892",
     "exception": false,
     "start_time": "2024-05-22T19:49:33.573600",
     "status": "completed"
    },
    "tags": []
   },
   "outputs": [],
   "source": [
    "df[\"Dependents\"]=df[\"Dependents\"].fillna(0)"
   ]
  },
  {
   "cell_type": "code",
   "execution_count": 48,
   "id": "87737e63",
   "metadata": {
    "execution": {
     "iopub.execute_input": "2024-05-22T19:49:33.706569Z",
     "iopub.status.busy": "2024-05-22T19:49:33.706128Z",
     "iopub.status.idle": "2024-05-22T19:49:33.714954Z",
     "shell.execute_reply": "2024-05-22T19:49:33.713750Z"
    },
    "papermill": {
     "duration": 0.053788,
     "end_time": "2024-05-22T19:49:33.717924",
     "exception": false,
     "start_time": "2024-05-22T19:49:33.664136",
     "status": "completed"
    },
    "tags": []
   },
   "outputs": [],
   "source": [
    "df[\"Gender\"]=df[\"Gender\"].fillna(df[\"Gender\"].mode()[0])\n",
    "df[\"Married\"]=df[\"Married\"].fillna(df[\"Married\"].mode()[0])\n",
    "df[\"Self_Employed\"]=df[\"Self_Employed\"].fillna(df[\"Self_Employed\"].mode()[0])"
   ]
  },
  {
   "cell_type": "code",
   "execution_count": 49,
   "id": "336e5e2f",
   "metadata": {
    "execution": {
     "iopub.execute_input": "2024-05-22T19:49:33.800319Z",
     "iopub.status.busy": "2024-05-22T19:49:33.799873Z",
     "iopub.status.idle": "2024-05-22T19:49:33.809652Z",
     "shell.execute_reply": "2024-05-22T19:49:33.808738Z"
    },
    "papermill": {
     "duration": 0.053957,
     "end_time": "2024-05-22T19:49:33.812236",
     "exception": false,
     "start_time": "2024-05-22T19:49:33.758279",
     "status": "completed"
    },
    "tags": []
   },
   "outputs": [
    {
     "data": {
      "text/plain": [
       "Gender              0\n",
       "Married             0\n",
       "Dependents          0\n",
       "Education           0\n",
       "Self_Employed       0\n",
       "LoanAmount          0\n",
       "Loan_Amount_Term    0\n",
       "Credit_History      0\n",
       "Property_Area       0\n",
       "Loan_Status         0\n",
       "Income              0\n",
       "dtype: int64"
      ]
     },
     "execution_count": 49,
     "metadata": {},
     "output_type": "execute_result"
    }
   ],
   "source": [
    "df.isna().sum()"
   ]
  },
  {
   "cell_type": "markdown",
   "id": "6a15ee61",
   "metadata": {
    "papermill": {
     "duration": 0.04035,
     "end_time": "2024-05-22T19:49:33.893854",
     "exception": false,
     "start_time": "2024-05-22T19:49:33.853504",
     "status": "completed"
    },
    "tags": []
   },
   "source": [
    "**All the null values are removed**"
   ]
  },
  {
   "cell_type": "code",
   "execution_count": 50,
   "id": "73198598",
   "metadata": {
    "execution": {
     "iopub.execute_input": "2024-05-22T19:49:33.976888Z",
     "iopub.status.busy": "2024-05-22T19:49:33.976508Z",
     "iopub.status.idle": "2024-05-22T19:49:33.985274Z",
     "shell.execute_reply": "2024-05-22T19:49:33.984115Z"
    },
    "papermill": {
     "duration": 0.053134,
     "end_time": "2024-05-22T19:49:33.987714",
     "exception": false,
     "start_time": "2024-05-22T19:49:33.934580",
     "status": "completed"
    },
    "tags": []
   },
   "outputs": [],
   "source": [
    "df = df.dropna(subset=[\"Gender\",\"Married\",\"Education\",\"Self_Employed\",\"Loan_Status\",\"Credit_History\",\"Property_Area\",\"Loan_Amount_Term\",\"Dependents\"])"
   ]
  },
  {
   "cell_type": "code",
   "execution_count": 51,
   "id": "bd31d785",
   "metadata": {
    "execution": {
     "iopub.execute_input": "2024-05-22T19:49:34.075701Z",
     "iopub.status.busy": "2024-05-22T19:49:34.075307Z",
     "iopub.status.idle": "2024-05-22T19:49:34.091401Z",
     "shell.execute_reply": "2024-05-22T19:49:34.090251Z"
    },
    "papermill": {
     "duration": 0.062949,
     "end_time": "2024-05-22T19:49:34.094074",
     "exception": false,
     "start_time": "2024-05-22T19:49:34.031125",
     "status": "completed"
    },
    "tags": []
   },
   "outputs": [],
   "source": [
    "df[\"Gender\"] = df[\"Gender\"].map({\"Male\": 1, \"Female\": 0}).astype(\"int\")\n",
    "\n",
    "df[\"Married\"]=df[\"Married\"].map({\"Yes\":1,\"No\":0}).astype(\"int\")\n",
    "\n",
    "df[\"Education\"]=df[\"Education\"].map({\"Graduate\":1,\"Not Graduate\":0}).astype(\"int\")\n",
    "\n",
    "df[\"Self_Employed\"]=df[\"Self_Employed\"].map({\"No\":0,\"Yes\":1}).astype(\"int\")\n",
    "\n",
    "df[\"Property_Area\"]=df[\"Property_Area\"].map({\"Rural\":0,\"Semiurban\":1,\"Urban\":2}).astype(\"int\")\n",
    "\n",
    "df[\"Loan_Status\"]=df[\"Loan_Status\"].map({\"Y\":1,\"N\":0}).astype(\"int\")"
   ]
  },
  {
   "cell_type": "markdown",
   "id": "0e2273fa",
   "metadata": {
    "papermill": {
     "duration": 0.040206,
     "end_time": "2024-05-22T19:49:34.175023",
     "exception": false,
     "start_time": "2024-05-22T19:49:34.134817",
     "status": "completed"
    },
    "tags": []
   },
   "source": [
    "**Now data type conversion of discrete_count variable**"
   ]
  },
  {
   "cell_type": "code",
   "execution_count": 52,
   "id": "47a53167",
   "metadata": {
    "execution": {
     "iopub.execute_input": "2024-05-22T19:49:34.260020Z",
     "iopub.status.busy": "2024-05-22T19:49:34.259143Z",
     "iopub.status.idle": "2024-05-22T19:49:34.265558Z",
     "shell.execute_reply": "2024-05-22T19:49:34.264755Z"
    },
    "papermill": {
     "duration": 0.05065,
     "end_time": "2024-05-22T19:49:34.267943",
     "exception": false,
     "start_time": "2024-05-22T19:49:34.217293",
     "status": "completed"
    },
    "tags": []
   },
   "outputs": [],
   "source": [
    "df[\"Dependents\"]=df[\"Dependents\"].astype(\"int\")\n",
    "df[\"Loan_Amount_Term\"]=df[\"Loan_Amount_Term\"].astype(\"int\")"
   ]
  },
  {
   "cell_type": "markdown",
   "id": "b1d8fe38",
   "metadata": {
    "papermill": {
     "duration": 0.045175,
     "end_time": "2024-05-22T19:49:34.357552",
     "exception": false,
     "start_time": "2024-05-22T19:49:34.312377",
     "status": "completed"
    },
    "tags": []
   },
   "source": [
    "**Defining X andY**"
   ]
  },
  {
   "cell_type": "code",
   "execution_count": 53,
   "id": "fff85ab2",
   "metadata": {
    "execution": {
     "iopub.execute_input": "2024-05-22T19:49:34.445188Z",
     "iopub.status.busy": "2024-05-22T19:49:34.444759Z",
     "iopub.status.idle": "2024-05-22T19:49:34.452092Z",
     "shell.execute_reply": "2024-05-22T19:49:34.450712Z"
    },
    "papermill": {
     "duration": 0.05195,
     "end_time": "2024-05-22T19:49:34.454735",
     "exception": false,
     "start_time": "2024-05-22T19:49:34.402785",
     "status": "completed"
    },
    "tags": []
   },
   "outputs": [],
   "source": [
    "x=df[['Gender', 'Married', 'Dependents', 'Education',\n",
    "       'Self_Employed', 'LoanAmount',\n",
    "       'Loan_Amount_Term', 'Credit_History', 'Property_Area',]]\n",
    "y=df[\"Loan_Status\"]"
   ]
  },
  {
   "cell_type": "markdown",
   "id": "c941d952",
   "metadata": {
    "papermill": {
     "duration": 0.040457,
     "end_time": "2024-05-22T19:49:34.537845",
     "exception": false,
     "start_time": "2024-05-22T19:49:34.497388",
     "status": "completed"
    },
    "tags": []
   },
   "source": [
    "**Finding best random state**"
   ]
  },
  {
   "cell_type": "code",
   "execution_count": 54,
   "id": "d2111d02",
   "metadata": {
    "execution": {
     "iopub.execute_input": "2024-05-22T19:49:34.623925Z",
     "iopub.status.busy": "2024-05-22T19:49:34.623523Z",
     "iopub.status.idle": "2024-05-22T19:49:42.016973Z",
     "shell.execute_reply": "2024-05-22T19:49:42.015525Z"
    },
    "papermill": {
     "duration": 7.439392,
     "end_time": "2024-05-22T19:49:42.019455",
     "exception": false,
     "start_time": "2024-05-22T19:49:34.580063",
     "status": "completed"
    },
    "tags": []
   },
   "outputs": [
    {
     "name": "stdout",
     "output_type": "stream",
     "text": [
      "best random state 35\n"
     ]
    }
   ],
   "source": [
    "train=[]\n",
    "test=[]\n",
    "cv=[]\n",
    "for i in range(1,50):\n",
    "    from sklearn.model_selection import train_test_split\n",
    "    x_train,x_test,y_train,y_test=train_test_split(x,y,test_size=0.2,random_state=i)\n",
    "    l=LogisticRegression()\n",
    "    l.fit(x_train,y_train)\n",
    "    ŷ_train=l.predict(x_train)\n",
    "    ŷ_test=l.predict(x_test)\n",
    "    from sklearn.metrics import accuracy_score\n",
    "    train.append(accuracy_score(y_train,ŷ_train))\n",
    "    test.append(accuracy_score(y_test,ŷ_test))\n",
    "    from sklearn.model_selection import cross_val_score\n",
    "    cv.append(cross_val_score(l,x_train,y_train,cv=5,scoring=\"accuracy\").mean())\n",
    "df1=pd.DataFrame({\"train\":train,\"test\":test,\"cv\":cv})\n",
    "df2=df1[(abs(df1[\"train\"]-df1[\"test\"])<=0.05) & (abs(df1[\"test\"]-df1[\"cv\"])<=0.05)]\n",
    "df3=df2[df2[\"cv\"]==df2[\"cv\"].max()].index.to_list()[0]\n",
    "print(\"best random state\",df3)"
   ]
  },
  {
   "cell_type": "markdown",
   "id": "301acf88",
   "metadata": {
    "papermill": {
     "duration": 0.041997,
     "end_time": "2024-05-22T19:49:42.103728",
     "exception": false,
     "start_time": "2024-05-22T19:49:42.061731",
     "status": "completed"
    },
    "tags": []
   },
   "source": [
    "**Train_Test_Split**"
   ]
  },
  {
   "cell_type": "code",
   "execution_count": 55,
   "id": "475206b2",
   "metadata": {
    "execution": {
     "iopub.execute_input": "2024-05-22T19:49:42.188504Z",
     "iopub.status.busy": "2024-05-22T19:49:42.188086Z",
     "iopub.status.idle": "2024-05-22T19:49:42.197158Z",
     "shell.execute_reply": "2024-05-22T19:49:42.195788Z"
    },
    "papermill": {
     "duration": 0.054657,
     "end_time": "2024-05-22T19:49:42.199513",
     "exception": false,
     "start_time": "2024-05-22T19:49:42.144856",
     "status": "completed"
    },
    "tags": []
   },
   "outputs": [],
   "source": [
    "x_train,x_test,y_train,y_test=train_test_split(x,y,test_size=0.2,random_state=35)"
   ]
  },
  {
   "cell_type": "markdown",
   "id": "cb07ca13",
   "metadata": {
    "papermill": {
     "duration": 0.047893,
     "end_time": "2024-05-22T19:49:42.299409",
     "exception": false,
     "start_time": "2024-05-22T19:49:42.251516",
     "status": "completed"
    },
    "tags": []
   },
   "source": [
    "# Logistic Regression"
   ]
  },
  {
   "cell_type": "markdown",
   "id": "9b5bdddb",
   "metadata": {
    "papermill": {
     "duration": 0.042095,
     "end_time": "2024-05-22T19:49:42.389059",
     "exception": false,
     "start_time": "2024-05-22T19:49:42.346964",
     "status": "completed"
    },
    "tags": []
   },
   "source": [
    "**Modelling & Evaluation**"
   ]
  },
  {
   "cell_type": "code",
   "execution_count": 56,
   "id": "2c8d172f",
   "metadata": {
    "execution": {
     "iopub.execute_input": "2024-05-22T19:49:42.481792Z",
     "iopub.status.busy": "2024-05-22T19:49:42.480927Z",
     "iopub.status.idle": "2024-05-22T19:49:42.647279Z",
     "shell.execute_reply": "2024-05-22T19:49:42.646041Z"
    },
    "papermill": {
     "duration": 0.221126,
     "end_time": "2024-05-22T19:49:42.652482",
     "exception": false,
     "start_time": "2024-05-22T19:49:42.431356",
     "status": "completed"
    },
    "tags": []
   },
   "outputs": [
    {
     "name": "stdout",
     "output_type": "stream",
     "text": [
      "CV 0.8165123456790123\n",
      "train accuracy 0.8213399503722084\n",
      "test accuracy 0.7821782178217822\n"
     ]
    }
   ],
   "source": [
    "l_model=LogisticRegression()\n",
    "l_model.fit(x_train,y_train)\n",
    "\n",
    "ŷ_train=l_model.predict(x_train)\n",
    "ŷ_test=l_model.predict(x_test)\n",
    "\n",
    "print(\"CV\",cross_val_score(l_model,x_train,y_train,cv=5,scoring=\"accuracy\").mean())\n",
    "print(\"train accuracy\",accuracy_score(y_train,ŷ_train))\n",
    "print(\"test accuracy\",accuracy_score(y_test,ŷ_test))"
   ]
  },
  {
   "cell_type": "markdown",
   "id": "9fc73067",
   "metadata": {
    "papermill": {
     "duration": 0.040903,
     "end_time": "2024-05-22T19:49:42.746572",
     "exception": false,
     "start_time": "2024-05-22T19:49:42.705669",
     "status": "completed"
    },
    "tags": []
   },
   "source": [
    "# KNN"
   ]
  },
  {
   "cell_type": "markdown",
   "id": "796dea31",
   "metadata": {
    "papermill": {
     "duration": 0.040287,
     "end_time": "2024-05-22T19:49:42.828239",
     "exception": false,
     "start_time": "2024-05-22T19:49:42.787952",
     "status": "completed"
    },
    "tags": []
   },
   "source": [
    "**Hyper parameter tuning**"
   ]
  },
  {
   "cell_type": "code",
   "execution_count": 57,
   "id": "8a12ed50",
   "metadata": {
    "execution": {
     "iopub.execute_input": "2024-05-22T19:49:42.913605Z",
     "iopub.status.busy": "2024-05-22T19:49:42.912247Z",
     "iopub.status.idle": "2024-05-22T19:49:46.105866Z",
     "shell.execute_reply": "2024-05-22T19:49:46.105011Z"
    },
    "papermill": {
     "duration": 3.238972,
     "end_time": "2024-05-22T19:49:46.108071",
     "exception": false,
     "start_time": "2024-05-22T19:49:42.869099",
     "status": "completed"
    },
    "tags": []
   },
   "outputs": [
    {
     "data": {
      "text/plain": [
       "{'n_neighbors': 25}"
      ]
     },
     "execution_count": 57,
     "metadata": {},
     "output_type": "execute_result"
    }
   ],
   "source": [
    "estimator=KNeighborsClassifier()\n",
    "param_grid={\"n_neighbors\":list(range(1,50))}\n",
    "\n",
    "cv_classifier=GridSearchCV(estimator,param_grid,cv=5,scoring=\"accuracy\")\n",
    "cv_classifier.fit(x_train,y_train)\n",
    "cv_classifier.best_params_"
   ]
  },
  {
   "cell_type": "markdown",
   "id": "7547121c",
   "metadata": {
    "papermill": {
     "duration": 0.040517,
     "end_time": "2024-05-22T19:49:46.189670",
     "exception": false,
     "start_time": "2024-05-22T19:49:46.149153",
     "status": "completed"
    },
    "tags": []
   },
   "source": [
    "**Modelling & Evaluation**"
   ]
  },
  {
   "cell_type": "code",
   "execution_count": 58,
   "id": "6139bcbf",
   "metadata": {
    "execution": {
     "iopub.execute_input": "2024-05-22T19:49:46.273750Z",
     "iopub.status.busy": "2024-05-22T19:49:46.272930Z",
     "iopub.status.idle": "2024-05-22T19:49:46.388613Z",
     "shell.execute_reply": "2024-05-22T19:49:46.387154Z"
    },
    "papermill": {
     "duration": 0.160189,
     "end_time": "2024-05-22T19:49:46.391073",
     "exception": false,
     "start_time": "2024-05-22T19:49:46.230884",
     "status": "completed"
    },
    "tags": []
   },
   "outputs": [
    {
     "name": "stdout",
     "output_type": "stream",
     "text": [
      "CV 0.6450925925925926\n",
      "train accuracy 0.7568238213399504\n",
      "test accuracy 0.5841584158415841\n"
     ]
    }
   ],
   "source": [
    "knn_model=KNeighborsClassifier()\n",
    "knn_model.fit(x_train,y_train)\n",
    "\n",
    "ŷ_train=knn_model.predict(x_train)\n",
    "ŷ_test=knn_model.predict(x_test)\n",
    "\n",
    "print(\"CV\",cross_val_score(knn_model,x_train,y_train,cv=5).mean())\n",
    "print(\"train accuracy\",accuracy_score(y_train,ŷ_train))\n",
    "print(\"test accuracy\",accuracy_score(y_test,ŷ_test))"
   ]
  },
  {
   "cell_type": "markdown",
   "id": "10f7e34a",
   "metadata": {
    "papermill": {
     "duration": 0.040881,
     "end_time": "2024-05-22T19:49:46.474275",
     "exception": false,
     "start_time": "2024-05-22T19:49:46.433394",
     "status": "completed"
    },
    "tags": []
   },
   "source": [
    "# SVM"
   ]
  },
  {
   "cell_type": "markdown",
   "id": "e45579a3",
   "metadata": {
    "papermill": {
     "duration": 0.040972,
     "end_time": "2024-05-22T19:49:46.556423",
     "exception": false,
     "start_time": "2024-05-22T19:49:46.515451",
     "status": "completed"
    },
    "tags": []
   },
   "source": [
    "**Hyper parameter tuning**"
   ]
  },
  {
   "cell_type": "code",
   "execution_count": 59,
   "id": "6ea4e26b",
   "metadata": {
    "execution": {
     "iopub.execute_input": "2024-05-22T19:49:46.641793Z",
     "iopub.status.busy": "2024-05-22T19:49:46.641380Z",
     "iopub.status.idle": "2024-05-22T19:49:56.415701Z",
     "shell.execute_reply": "2024-05-22T19:49:56.414486Z"
    },
    "papermill": {
     "duration": 9.821391,
     "end_time": "2024-05-22T19:49:56.418896",
     "exception": false,
     "start_time": "2024-05-22T19:49:46.597505",
     "status": "completed"
    },
    "tags": []
   },
   "outputs": [
    {
     "data": {
      "text/plain": [
       "{'C': 1, 'kernel': 'linear'}"
      ]
     },
     "execution_count": 59,
     "metadata": {},
     "output_type": "execute_result"
    }
   ],
   "source": [
    "estimator=SVC()\n",
    "param_grid={\"C\":[1,3,5,7,9],\"kernel\":[\"linear\",\"polynomial\",\"rbf\",\"sigmoid\"]}\n",
    "model1=GridSearchCV(estimator,param_grid,cv=5,scoring=\"accuracy\")\n",
    "model1.fit(x_train,y_train)\n",
    "model1.best_params_"
   ]
  },
  {
   "cell_type": "markdown",
   "id": "43cf72e6",
   "metadata": {
    "papermill": {
     "duration": 0.041496,
     "end_time": "2024-05-22T19:49:56.503504",
     "exception": false,
     "start_time": "2024-05-22T19:49:56.462008",
     "status": "completed"
    },
    "tags": []
   },
   "source": [
    "**Modelling & Evaluation**"
   ]
  },
  {
   "cell_type": "code",
   "execution_count": 60,
   "id": "1b1bf702",
   "metadata": {
    "execution": {
     "iopub.execute_input": "2024-05-22T19:49:56.589261Z",
     "iopub.status.busy": "2024-05-22T19:49:56.588027Z",
     "iopub.status.idle": "2024-05-22T19:49:57.181239Z",
     "shell.execute_reply": "2024-05-22T19:49:57.179557Z"
    },
    "papermill": {
     "duration": 0.639146,
     "end_time": "2024-05-22T19:49:57.183653",
     "exception": false,
     "start_time": "2024-05-22T19:49:56.544507",
     "status": "completed"
    },
    "tags": []
   },
   "outputs": [
    {
     "name": "stdout",
     "output_type": "stream",
     "text": [
      "train accuracy 0.8163771712158809\n",
      "test accuracy 0.7920792079207921\n",
      "CV 0.8165123456790123\n"
     ]
    }
   ],
   "source": [
    "svm=SVC(C=1,kernel=\"linear\")\n",
    "svm.fit(x_train,y_train)\n",
    "\n",
    "ŷ_train=svm.predict(x_train)\n",
    "ŷ_test=svm.predict(x_test)\n",
    "print(\"train accuracy\",accuracy_score(y_train,ŷ_train))\n",
    "print(\"test accuracy\",accuracy_score(y_test,ŷ_test))\n",
    "print(\"CV\",cross_val_score(svm,x_train,y_train,cv=5,scoring=\"accuracy\").mean())"
   ]
  },
  {
   "cell_type": "markdown",
   "id": "a11a841a",
   "metadata": {
    "papermill": {
     "duration": 0.041268,
     "end_time": "2024-05-22T19:49:57.267555",
     "exception": false,
     "start_time": "2024-05-22T19:49:57.226287",
     "status": "completed"
    },
    "tags": []
   },
   "source": [
    "# Decision Tree"
   ]
  },
  {
   "cell_type": "markdown",
   "id": "6c5fea04",
   "metadata": {
    "papermill": {
     "duration": 0.041018,
     "end_time": "2024-05-22T19:49:57.350751",
     "exception": false,
     "start_time": "2024-05-22T19:49:57.309733",
     "status": "completed"
    },
    "tags": []
   },
   "source": [
    "**Hyper parameter tuning**"
   ]
  },
  {
   "cell_type": "code",
   "execution_count": 61,
   "id": "8151b68b",
   "metadata": {
    "execution": {
     "iopub.execute_input": "2024-05-22T19:49:57.437933Z",
     "iopub.status.busy": "2024-05-22T19:49:57.437467Z",
     "iopub.status.idle": "2024-05-22T19:49:57.522528Z",
     "shell.execute_reply": "2024-05-22T19:49:57.521421Z"
    },
    "papermill": {
     "duration": 0.131271,
     "end_time": "2024-05-22T19:49:57.525003",
     "exception": false,
     "start_time": "2024-05-22T19:49:57.393732",
     "status": "completed"
    },
    "tags": []
   },
   "outputs": [
    {
     "data": {
      "text/plain": [
       "{'criterion': 'entropy'}"
      ]
     },
     "execution_count": 61,
     "metadata": {},
     "output_type": "execute_result"
    }
   ],
   "source": [
    "estimator=DecisionTreeClassifier()\n",
    "param_grid={'criterion':['gini','entropy']}\n",
    "model=GridSearchCV(estimator, param_grid, cv=5, scoring='accuracy')\n",
    "model.fit(x_train,y_train)\n",
    "model.best_params_"
   ]
  },
  {
   "cell_type": "markdown",
   "id": "0cda2f43",
   "metadata": {
    "papermill": {
     "duration": 0.041127,
     "end_time": "2024-05-22T19:49:57.608718",
     "exception": false,
     "start_time": "2024-05-22T19:49:57.567591",
     "status": "completed"
    },
    "tags": []
   },
   "source": [
    "**Modelling & Evaluation**"
   ]
  },
  {
   "cell_type": "code",
   "execution_count": 62,
   "id": "5497957c",
   "metadata": {
    "execution": {
     "iopub.execute_input": "2024-05-22T19:49:57.693015Z",
     "iopub.status.busy": "2024-05-22T19:49:57.692618Z",
     "iopub.status.idle": "2024-05-22T19:49:57.744944Z",
     "shell.execute_reply": "2024-05-22T19:49:57.743661Z"
    },
    "papermill": {
     "duration": 0.0978,
     "end_time": "2024-05-22T19:49:57.747724",
     "exception": false,
     "start_time": "2024-05-22T19:49:57.649924",
     "status": "completed"
    },
    "tags": []
   },
   "outputs": [
    {
     "name": "stdout",
     "output_type": "stream",
     "text": [
      "Train Accuracy: 0.9975186104218362\n",
      "Test Accuracy: 0.6237623762376238\n",
      "CV score: 0.7047839506172839\n"
     ]
    }
   ],
   "source": [
    "dt=DecisionTreeClassifier(criterion='entropy')\n",
    "dt.fit(x_train,y_train)\n",
    "\n",
    "train_pred=dt.predict(x_train)\n",
    "test_pred=dt.predict(x_test)\n",
    "\n",
    "print('Train Accuracy:',accuracy_score(y_train,train_pred))\n",
    "print('Test Accuracy:',accuracy_score(y_test,test_pred))\n",
    "\n",
    "print('CV score:',cross_val_score(dt,x_train,y_train,cv=5,scoring='accuracy').mean())"
   ]
  },
  {
   "cell_type": "markdown",
   "id": "079792de",
   "metadata": {
    "papermill": {
     "duration": 0.040835,
     "end_time": "2024-05-22T19:49:57.830101",
     "exception": false,
     "start_time": "2024-05-22T19:49:57.789266",
     "status": "completed"
    },
    "tags": []
   },
   "source": [
    "# Random Forest"
   ]
  },
  {
   "cell_type": "markdown",
   "id": "1a9105ba",
   "metadata": {
    "papermill": {
     "duration": 0.040902,
     "end_time": "2024-05-22T19:49:57.912435",
     "exception": false,
     "start_time": "2024-05-22T19:49:57.871533",
     "status": "completed"
    },
    "tags": []
   },
   "source": [
    "**Hyper parameter tuning**"
   ]
  },
  {
   "cell_type": "code",
   "execution_count": 63,
   "id": "96deab72",
   "metadata": {
    "execution": {
     "iopub.execute_input": "2024-05-22T19:49:57.999647Z",
     "iopub.status.busy": "2024-05-22T19:49:57.999240Z",
     "iopub.status.idle": "2024-05-22T19:50:14.929564Z",
     "shell.execute_reply": "2024-05-22T19:50:14.928297Z"
    },
    "papermill": {
     "duration": 16.977769,
     "end_time": "2024-05-22T19:50:14.932128",
     "exception": false,
     "start_time": "2024-05-22T19:49:57.954359",
     "status": "completed"
    },
    "tags": []
   },
   "outputs": [
    {
     "data": {
      "text/plain": [
       "{'n_estimators': 7}"
      ]
     },
     "execution_count": 63,
     "metadata": {},
     "output_type": "execute_result"
    }
   ],
   "source": [
    "estimator=RandomForestClassifier(random_state=42)\n",
    "param_grid={\"n_estimators\":list(range(1,50))}\n",
    "model=GridSearchCV(estimator,param_grid,cv=5,scoring=\"accuracy\")\n",
    "model.fit(x_train,y_train)\n",
    "model.best_params_"
   ]
  },
  {
   "cell_type": "markdown",
   "id": "213f829b",
   "metadata": {
    "papermill": {
     "duration": 0.044412,
     "end_time": "2024-05-22T19:50:15.018753",
     "exception": false,
     "start_time": "2024-05-22T19:50:14.974341",
     "status": "completed"
    },
    "tags": []
   },
   "source": [
    "**Modelling & Evaluation**"
   ]
  },
  {
   "cell_type": "code",
   "execution_count": 64,
   "id": "f8a014a9",
   "metadata": {
    "execution": {
     "iopub.execute_input": "2024-05-22T19:50:15.104896Z",
     "iopub.status.busy": "2024-05-22T19:50:15.104492Z",
     "iopub.status.idle": "2024-05-22T19:50:15.260386Z",
     "shell.execute_reply": "2024-05-22T19:50:15.259299Z"
    },
    "papermill": {
     "duration": 0.201924,
     "end_time": "2024-05-22T19:50:15.263007",
     "exception": false,
     "start_time": "2024-05-22T19:50:15.061083",
     "status": "completed"
    },
    "tags": []
   },
   "outputs": [
    {
     "name": "stdout",
     "output_type": "stream",
     "text": [
      "train_accuracy 0.9627791563275434\n",
      "test_accuracy 0.7326732673267327\n",
      "CV 0.7791358024691357\n"
     ]
    }
   ],
   "source": [
    "rf=RandomForestClassifier(n_estimators=7)\n",
    "rf.fit(x_train,y_train)\n",
    "\n",
    "ŷ_train=rf.predict(x_train)\n",
    "ŷ_test=rf.predict(x_test)\n",
    "\n",
    "\n",
    "print(\"train_accuracy\",accuracy_score(y_train,ŷ_train))\n",
    "print(\"test_accuracy\",accuracy_score(y_test,ŷ_test))\n",
    "print(\"CV\",cross_val_score(rf,x_train,y_train,cv=5,scoring=\"accuracy\").mean())"
   ]
  },
  {
   "cell_type": "markdown",
   "id": "a4c05fa0",
   "metadata": {
    "papermill": {
     "duration": 0.042086,
     "end_time": "2024-05-22T19:50:15.347013",
     "exception": false,
     "start_time": "2024-05-22T19:50:15.304927",
     "status": "completed"
    },
    "tags": []
   },
   "source": [
    "# Ada Boost Classifier"
   ]
  },
  {
   "cell_type": "markdown",
   "id": "b143b054",
   "metadata": {
    "papermill": {
     "duration": 0.041522,
     "end_time": "2024-05-22T19:50:15.430665",
     "exception": false,
     "start_time": "2024-05-22T19:50:15.389143",
     "status": "completed"
    },
    "tags": []
   },
   "source": [
    "**Hyper parameter tuning**"
   ]
  },
  {
   "cell_type": "code",
   "execution_count": 65,
   "id": "e7ea87a8",
   "metadata": {
    "execution": {
     "iopub.execute_input": "2024-05-22T19:50:15.520893Z",
     "iopub.status.busy": "2024-05-22T19:50:15.520449Z",
     "iopub.status.idle": "2024-05-22T19:50:31.255824Z",
     "shell.execute_reply": "2024-05-22T19:50:31.254739Z"
    },
    "papermill": {
     "duration": 15.782801,
     "end_time": "2024-05-22T19:50:31.258485",
     "exception": false,
     "start_time": "2024-05-22T19:50:15.475684",
     "status": "completed"
    },
    "tags": []
   },
   "outputs": [
    {
     "data": {
      "text/plain": [
       "{'n_estimators': 19}"
      ]
     },
     "execution_count": 65,
     "metadata": {},
     "output_type": "execute_result"
    }
   ],
   "source": [
    "estimator=AdaBoostClassifier(random_state=42)\n",
    "param_grid={\"n_estimators\":list(range(1,50))}\n",
    "model=GridSearchCV(estimator,param_grid,cv=5,scoring=\"accuracy\")\n",
    "model.fit(x_train,y_train)\n",
    "model.best_params_"
   ]
  },
  {
   "cell_type": "markdown",
   "id": "14867f69",
   "metadata": {
    "papermill": {
     "duration": 0.041727,
     "end_time": "2024-05-22T19:50:31.342784",
     "exception": false,
     "start_time": "2024-05-22T19:50:31.301057",
     "status": "completed"
    },
    "tags": []
   },
   "source": [
    "**Modelling & Evaluation**"
   ]
  },
  {
   "cell_type": "code",
   "execution_count": 66,
   "id": "10071a20",
   "metadata": {
    "execution": {
     "iopub.execute_input": "2024-05-22T19:50:31.430745Z",
     "iopub.status.busy": "2024-05-22T19:50:31.430349Z",
     "iopub.status.idle": "2024-05-22T19:50:31.753477Z",
     "shell.execute_reply": "2024-05-22T19:50:31.752316Z"
    },
    "papermill": {
     "duration": 0.369572,
     "end_time": "2024-05-22T19:50:31.756032",
     "exception": false,
     "start_time": "2024-05-22T19:50:31.386460",
     "status": "completed"
    },
    "tags": []
   },
   "outputs": [
    {
     "name": "stdout",
     "output_type": "stream",
     "text": [
      "train_accuracy 0.8387096774193549\n",
      "test_accuracy 0.7722772277227723\n",
      "CV 0.8239197530864197\n"
     ]
    }
   ],
   "source": [
    "ab=AdaBoostClassifier(n_estimators=19)\n",
    "ab.fit(x_train,y_train)\n",
    "\n",
    "ŷ_train=ab.predict(x_train)\n",
    "ŷ_test=ab.predict(x_test)\n",
    "\n",
    "\n",
    "print(\"train_accuracy\",accuracy_score(y_train,ŷ_train))\n",
    "print(\"test_accuracy\",accuracy_score(y_test,ŷ_test))\n",
    "print(\"CV\",cross_val_score(ab,x_train,y_train,cv=5,scoring=\"accuracy\").mean())"
   ]
  },
  {
   "cell_type": "markdown",
   "id": "fed5de79",
   "metadata": {
    "papermill": {
     "duration": 0.041817,
     "end_time": "2024-05-22T19:50:31.840437",
     "exception": false,
     "start_time": "2024-05-22T19:50:31.798620",
     "status": "completed"
    },
    "tags": []
   },
   "source": [
    "# Gradient boost classifier"
   ]
  },
  {
   "cell_type": "markdown",
   "id": "2a3708a7",
   "metadata": {
    "papermill": {
     "duration": 0.042421,
     "end_time": "2024-05-22T19:50:31.925084",
     "exception": false,
     "start_time": "2024-05-22T19:50:31.882663",
     "status": "completed"
    },
    "tags": []
   },
   "source": [
    "**Hyper parameter tuning**"
   ]
  },
  {
   "cell_type": "code",
   "execution_count": 67,
   "id": "560aa876",
   "metadata": {
    "execution": {
     "iopub.execute_input": "2024-05-22T19:50:32.012071Z",
     "iopub.status.busy": "2024-05-22T19:50:32.011254Z",
     "iopub.status.idle": "2024-05-22T19:50:34.976991Z",
     "shell.execute_reply": "2024-05-22T19:50:34.975772Z"
    },
    "papermill": {
     "duration": 3.012092,
     "end_time": "2024-05-22T19:50:34.979772",
     "exception": false,
     "start_time": "2024-05-22T19:50:31.967680",
     "status": "completed"
    },
    "tags": []
   },
   "outputs": [
    {
     "data": {
      "text/plain": [
       "{'learning_rate': 0.2, 'n_estimators': 6}"
      ]
     },
     "execution_count": 67,
     "metadata": {},
     "output_type": "execute_result"
    }
   ],
   "source": [
    "estimator=GradientBoostingClassifier(random_state=42)\n",
    "param_grid={\"n_estimators\":list(range(1,10)),\"learning_rate\":[0.1,0.2,0.3,0.4,0.5]}\n",
    "model=GridSearchCV(estimator,param_grid,cv=5,scoring=\"accuracy\")\n",
    "model.fit(x_train,y_train)\n",
    "model.best_params_"
   ]
  },
  {
   "cell_type": "markdown",
   "id": "4081f5a0",
   "metadata": {
    "papermill": {
     "duration": 0.042522,
     "end_time": "2024-05-22T19:50:35.064753",
     "exception": false,
     "start_time": "2024-05-22T19:50:35.022231",
     "status": "completed"
    },
    "tags": []
   },
   "source": [
    "**Modelling & Evaluation**"
   ]
  },
  {
   "cell_type": "code",
   "execution_count": 68,
   "id": "fa144e92",
   "metadata": {
    "execution": {
     "iopub.execute_input": "2024-05-22T19:50:35.152736Z",
     "iopub.status.busy": "2024-05-22T19:50:35.152008Z",
     "iopub.status.idle": "2024-05-22T19:50:35.247911Z",
     "shell.execute_reply": "2024-05-22T19:50:35.246627Z"
    },
    "papermill": {
     "duration": 0.143329,
     "end_time": "2024-05-22T19:50:35.250327",
     "exception": false,
     "start_time": "2024-05-22T19:50:35.106998",
     "status": "completed"
    },
    "tags": []
   },
   "outputs": [
    {
     "name": "stdout",
     "output_type": "stream",
     "text": [
      "train_accuracy 0.8337468982630273\n",
      "test_accuracy 0.7524752475247525\n",
      "CV 0.8188888888888888\n"
     ]
    }
   ],
   "source": [
    "gb=GradientBoostingClassifier(n_estimators=6,learning_rate=0.2)\n",
    "gb.fit(x_train,y_train)\n",
    "\n",
    "ŷ_train=gb.predict(x_train)\n",
    "ŷ_test=gb.predict(x_test)\n",
    "\n",
    "\n",
    "print(\"train_accuracy\",accuracy_score(y_train,ŷ_train))\n",
    "print(\"test_accuracy\",accuracy_score(y_test,ŷ_test))\n",
    "print(\"CV\",cross_val_score(gb,x_train,y_train,cv=5,scoring=\"accuracy\").mean())"
   ]
  },
  {
   "cell_type": "markdown",
   "id": "d5bee444",
   "metadata": {
    "papermill": {
     "duration": 0.042365,
     "end_time": "2024-05-22T19:50:35.337407",
     "exception": false,
     "start_time": "2024-05-22T19:50:35.295042",
     "status": "completed"
    },
    "tags": []
   },
   "source": [
    "# XG Boost Classifier"
   ]
  },
  {
   "cell_type": "markdown",
   "id": "1adb18c8",
   "metadata": {
    "papermill": {
     "duration": 0.042034,
     "end_time": "2024-05-22T19:50:35.422761",
     "exception": false,
     "start_time": "2024-05-22T19:50:35.380727",
     "status": "completed"
    },
    "tags": []
   },
   "source": [
    "**Hyper parameter tuning**"
   ]
  },
  {
   "cell_type": "code",
   "execution_count": 69,
   "id": "ce4bae7c",
   "metadata": {
    "execution": {
     "iopub.execute_input": "2024-05-22T19:50:35.510063Z",
     "iopub.status.busy": "2024-05-22T19:50:35.509385Z",
     "iopub.status.idle": "2024-05-22T19:50:44.099473Z",
     "shell.execute_reply": "2024-05-22T19:50:44.098331Z"
    },
    "papermill": {
     "duration": 8.637261,
     "end_time": "2024-05-22T19:50:44.102157",
     "exception": false,
     "start_time": "2024-05-22T19:50:35.464896",
     "status": "completed"
    },
    "tags": []
   },
   "outputs": [
    {
     "data": {
      "text/plain": [
       "{'Max_depth': 3, 'gamma': 1, 'n_estimators': 10}"
      ]
     },
     "execution_count": 69,
     "metadata": {},
     "output_type": "execute_result"
    }
   ],
   "source": [
    "estimator=XGBClassifier(random_state=7)\n",
    "param_grid={\"n_estimators\":[10,20,40,60],\"Max_depth\":[3,4,5],\"gamma\":[0,0.15,0.30,0.45,1]}\n",
    "model=GridSearchCV(estimator,param_grid,cv=5,scoring=\"accuracy\")\n",
    "model.fit(x_train,y_train)\n",
    "model.best_params_"
   ]
  },
  {
   "cell_type": "markdown",
   "id": "ffb4fa15",
   "metadata": {
    "papermill": {
     "duration": 0.042206,
     "end_time": "2024-05-22T19:50:44.188179",
     "exception": false,
     "start_time": "2024-05-22T19:50:44.145973",
     "status": "completed"
    },
    "tags": []
   },
   "source": [
    "**Modelling & Evaluation**"
   ]
  },
  {
   "cell_type": "code",
   "execution_count": 70,
   "id": "cdf80ab2",
   "metadata": {
    "execution": {
     "iopub.execute_input": "2024-05-22T19:50:44.279959Z",
     "iopub.status.busy": "2024-05-22T19:50:44.278924Z",
     "iopub.status.idle": "2024-05-22T19:50:44.479983Z",
     "shell.execute_reply": "2024-05-22T19:50:44.478771Z"
    },
    "papermill": {
     "duration": 0.24848,
     "end_time": "2024-05-22T19:50:44.482663",
     "exception": false,
     "start_time": "2024-05-22T19:50:44.234183",
     "status": "completed"
    },
    "tags": []
   },
   "outputs": [
    {
     "name": "stdout",
     "output_type": "stream",
     "text": [
      "train_accuracy 0.8163771712158809\n",
      "test_accuracy 0.7920792079207921\n",
      "CV 0.8115123456790124\n"
     ]
    }
   ],
   "source": [
    "xgb=XGBClassifier(max_depth=3,gamma=1,n_estimators=10)\n",
    "xgb.fit(x_train,y_train)\n",
    "\n",
    "ŷ_train=xgb.predict(x_train)\n",
    "ŷ_test=xgb.predict(x_test)\n",
    "\n",
    "\n",
    "print(\"train_accuracy\",accuracy_score(y_train,ŷ_train))\n",
    "print(\"test_accuracy\",accuracy_score(y_test,ŷ_test))\n",
    "print(\"CV\",cross_val_score(xgb,x_train,y_train,cv=5,scoring=\"accuracy\").mean())"
   ]
  },
  {
   "cell_type": "markdown",
   "id": "48b3680d",
   "metadata": {
    "papermill": {
     "duration": 0.044563,
     "end_time": "2024-05-22T19:50:44.572011",
     "exception": false,
     "start_time": "2024-05-22T19:50:44.527448",
     "status": "completed"
    },
    "tags": []
   },
   "source": [
    "**Confusion matrix**"
   ]
  },
  {
   "cell_type": "code",
   "execution_count": 71,
   "id": "948e34aa",
   "metadata": {
    "execution": {
     "iopub.execute_input": "2024-05-22T19:50:44.662291Z",
     "iopub.status.busy": "2024-05-22T19:50:44.661838Z",
     "iopub.status.idle": "2024-05-22T19:50:44.671889Z",
     "shell.execute_reply": "2024-05-22T19:50:44.670672Z"
    },
    "papermill": {
     "duration": 0.05839,
     "end_time": "2024-05-22T19:50:44.675059",
     "exception": false,
     "start_time": "2024-05-22T19:50:44.616669",
     "status": "completed"
    },
    "tags": []
   },
   "outputs": [
    {
     "data": {
      "text/plain": [
       "array([[16, 20],\n",
       "       [ 1, 64]])"
      ]
     },
     "execution_count": 71,
     "metadata": {},
     "output_type": "execute_result"
    }
   ],
   "source": [
    "from sklearn.metrics import confusion_matrix,ConfusionMatrixDisplay\n",
    "cm=confusion_matrix(y_test,ŷ_test)\n",
    "cm"
   ]
  },
  {
   "cell_type": "code",
   "execution_count": 72,
   "id": "b57b2d5c",
   "metadata": {
    "execution": {
     "iopub.execute_input": "2024-05-22T19:50:44.765068Z",
     "iopub.status.busy": "2024-05-22T19:50:44.763633Z",
     "iopub.status.idle": "2024-05-22T19:50:45.094581Z",
     "shell.execute_reply": "2024-05-22T19:50:45.093378Z"
    },
    "papermill": {
     "duration": 0.378516,
     "end_time": "2024-05-22T19:50:45.097650",
     "exception": false,
     "start_time": "2024-05-22T19:50:44.719134",
     "status": "completed"
    },
    "tags": []
   },
   "outputs": [
    {
     "data": {
      "image/png": "[encoded data removed]",
      "text/plain": [
       "<Figure size 1800x800 with 2 Axes>"
      ]
     },
     "metadata": {},
     "output_type": "display_data"
    }
   ],
   "source": [
    "ConfusionMatrixDisplay(cm).plot()\n",
    "plt.show()"
   ]
  },
  {
   "cell_type": "code",
   "execution_count": 73,
   "id": "63e15cad",
   "metadata": {
    "execution": {
     "iopub.execute_input": "2024-05-22T19:50:45.188883Z",
     "iopub.status.busy": "2024-05-22T19:50:45.188424Z",
     "iopub.status.idle": "2024-05-22T19:50:45.203664Z",
     "shell.execute_reply": "2024-05-22T19:50:45.202488Z"
    },
    "papermill": {
     "duration": 0.064571,
     "end_time": "2024-05-22T19:50:45.205987",
     "exception": false,
     "start_time": "2024-05-22T19:50:45.141416",
     "status": "completed"
    },
    "tags": []
   },
   "outputs": [
    {
     "name": "stdout",
     "output_type": "stream",
     "text": [
      "              precision    recall  f1-score   support\n",
      "\n",
      "           0       0.94      0.44      0.60        36\n",
      "           1       0.76      0.98      0.86        65\n",
      "\n",
      "    accuracy                           0.79       101\n",
      "   macro avg       0.85      0.71      0.73       101\n",
      "weighted avg       0.83      0.79      0.77       101\n",
      "\n"
     ]
    }
   ],
   "source": [
    "print(classification_report(y_test,ŷ_test))"
   ]
  },
  {
   "cell_type": "code",
   "execution_count": 74,
   "id": "dab79807",
   "metadata": {
    "execution": {
     "iopub.execute_input": "2024-05-22T19:50:45.295197Z",
     "iopub.status.busy": "2024-05-22T19:50:45.294765Z",
     "iopub.status.idle": "2024-05-22T19:50:45.630693Z",
     "shell.execute_reply": "2024-05-22T19:50:45.629462Z"
    },
    "papermill": {
     "duration": 0.383472,
     "end_time": "2024-05-22T19:50:45.633189",
     "exception": false,
     "start_time": "2024-05-22T19:50:45.249717",
     "status": "completed"
    },
    "tags": []
   },
   "outputs": [
    {
     "data": {
      "image/png": "[encoded data removed]",
      "text/plain": [
       "<Figure size 1800x800 with 1 Axes>"
      ]
     },
     "metadata": {},
     "output_type": "display_data"
    }
   ],
   "source": [
    "from sklearn.metrics import roc_curve,auc,RocCurveDisplay\n",
    "fpr,tpr,thresholds=roc_curve(y_test,ŷ_test)\n",
    "roc_auc=auc(fpr,tpr)\n",
    "RocCurveDisplay(fpr=fpr,tpr=tpr,roc_auc=roc_auc).plot()\n",
    "plt.show()"
   ]
  },
  {
   "cell_type": "markdown",
   "id": "e469fe34",
   "metadata": {
    "papermill": {
     "duration": 0.049572,
     "end_time": "2024-05-22T19:50:45.728506",
     "exception": false,
     "start_time": "2024-05-22T19:50:45.678934",
     "status": "completed"
    },
    "tags": []
   },
   "source": [
    "**Ada Boost is best model**"
   ]
  },
  {
   "cell_type": "markdown",
   "id": "9d00cb6f",
   "metadata": {
    "execution": {
     "iopub.execute_input": "2024-05-22T15:30:56.250797Z",
     "iopub.status.busy": "2024-05-22T15:30:56.250382Z",
     "iopub.status.idle": "2024-05-22T15:30:56.256776Z",
     "shell.execute_reply": "2024-05-22T15:30:56.255174Z",
     "shell.execute_reply.started": "2024-05-22T15:30:56.250765Z"
    },
    "papermill": {
     "duration": 0.044543,
     "end_time": "2024-05-22T19:50:45.819321",
     "exception": false,
     "start_time": "2024-05-22T19:50:45.774778",
     "status": "completed"
    },
    "tags": []
   },
   "source": [
    "# If you found this code helpful or interesting, please give it a like! Your support motivates me to share more valuable content. Have any questions, feedback, or suggestions? I'd love to hear from you! Drop a comment below. Thankyou!"
   ]
  }
 ],
 "metadata": {
  "kaggle": {
   "accelerator": "none",
   "dataSources": [
    {
     "datasetId": 15953,
     "sourceId": 21070,
     "sourceType": "datasetVersion"
    }
   ],
   "dockerImageVersionId": 30698,
   "isGpuEnabled": false,
   "isInternetEnabled": true,
   "language": "python",
   "sourceType": "notebook"
  },
  "kernelspec": {
   "display_name": "Python 3",
   "language": "python",
   "name": "python3"
  },
  "language_info": {
   "codemirror_mode": {
    "name": "ipython",
    "version": 3
   },
   "file_extension": ".py",
   "mimetype": "text/x-python",
   "name": "python",
   "nbconvert_exporter": "python",
   "pygments_lexer": "ipython3",
   "version": "3.10.13"
  },
  "papermill": {
   "default_parameters": {},
   "duration": 90.172802,
   "end_time": "2024-05-22T19:50:46.691585",
   "environment_variables": {},
   "exception": null,
   "input_path": "__notebook__.ipynb",
   "output_path": "__notebook__.ipynb",
   "parameters": {},
   "start_time": "2024-05-22T19:49:16.518783",
   "version": "2.5.0"
  }
 },
 "nbformat": 4,
 "nbformat_minor": 5
}
